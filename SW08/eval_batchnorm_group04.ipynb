{
  "cells": [
    {
      "cell_type": "markdown",
      "metadata": {
        "id": "CpfgkgXIWxAs"
      },
      "source": [
        "# PW05 - Group 4\n",
        "* Florian Bär\n",
        "* Matthias Egli\n",
        "* Manuel Vogel\n",
        "* Adrian Willi"
      ]
    },
    {
      "cell_type": "code",
      "execution_count": 22,
      "metadata": {
        "id": "JH4aYBqEWxAt"
      },
      "outputs": [],
      "source": [
        "import tensorflow as tf\n",
        "from tensorflow import keras\n",
        "from keras.layers import *\n",
        "from keras import Model"
      ]
    },
    {
      "cell_type": "code",
      "execution_count": 23,
      "metadata": {
        "id": "Rh8gK7QmWxAu"
      },
      "outputs": [],
      "source": [
        "import ssl\n",
        "ssl._create_default_https_context = ssl._create_unverified_context\n",
        "\n",
        "(x_train, y_train), (x_test, y_test) = keras.datasets.cifar10.load_data()\n",
        "assert x_train.shape == (50000, 32, 32, 3)\n",
        "assert x_test.shape == (10000, 32, 32, 3)\n",
        "assert y_train.shape == (50000, 1)\n",
        "assert y_test.shape == (10000, 1)"
      ]
    },
    {
      "cell_type": "code",
      "execution_count": 24,
      "metadata": {
        "id": "62j83yFgWxAv"
      },
      "outputs": [],
      "source": [
        "x_train = x_train.astype('float32') / 255\n",
        "x_test = x_test.astype('float32') / 255"
      ]
    },
    {
      "cell_type": "code",
      "execution_count": 25,
      "metadata": {
        "colab": {
          "base_uri": "https://localhost:8080/"
        },
        "id": "gouc_t5QWxAv",
        "outputId": "6ea2ce64-dc1e-4e68-da76-97e41c5277da"
      },
      "outputs": [
        {
          "output_type": "execute_result",
          "data": {
            "text/plain": [
              "(32, 32, 3)"
            ]
          },
          "metadata": {},
          "execution_count": 25
        }
      ],
      "source": [
        "x_train.shape[1:]"
      ]
    },
    {
      "cell_type": "code",
      "source": [
        "import matplotlib.pyplot as plt\n",
        "\n",
        "def print_curves(history):\n",
        "  # plot loss\n",
        "  plt.subplot(211)\n",
        "  plt.title('Cross Entropy Loss')\n",
        "  plt.plot(history.history['loss'], color='blue', label='train')\n",
        "  plt.plot(history.history['val_loss'], color='orange', label='test')\n",
        "  plt.legend()\n",
        "  plt.show()\n",
        "  # plot accuracy\n",
        "  plt.subplot(212)\n",
        "  plt.title('Classification Accuracy')\n",
        "  plt.plot(history.history['accuracy'], color='blue', label='train')\n",
        "  plt.plot(history.history['val_accuracy'], color='orange', label='test')\n",
        "  plt.show()\n",
        "  plt.close()"
      ],
      "metadata": {
        "id": "ekVCi5onZxVO"
      },
      "execution_count": 26,
      "outputs": []
    },
    {
      "cell_type": "markdown",
      "metadata": {
        "id": "GZ9SHPeaWxAw"
      },
      "source": [
        "## a) + b) Baseline"
      ]
    },
    {
      "cell_type": "code",
      "execution_count": 27,
      "metadata": {
        "colab": {
          "base_uri": "https://localhost:8080/",
          "height": 1000
        },
        "id": "9Rf9GbqgWxAw",
        "outputId": "83ca9d7c-9e9f-4ce1-ddb6-816326c77eca"
      },
      "outputs": [
        {
          "output_type": "stream",
          "name": "stdout",
          "text": [
            "Epoch 1/25\n",
            "1563/1563 [==============================] - 6s 4ms/step - loss: 1.3644 - accuracy: 0.5062 - val_loss: 1.1402 - val_accuracy: 0.5971\n",
            "Epoch 2/25\n",
            "1563/1563 [==============================] - 6s 4ms/step - loss: 0.9215 - accuracy: 0.6762 - val_loss: 0.9099 - val_accuracy: 0.6820\n",
            "Epoch 3/25\n",
            "1563/1563 [==============================] - 6s 4ms/step - loss: 0.7499 - accuracy: 0.7388 - val_loss: 0.8157 - val_accuracy: 0.7246\n",
            "Epoch 4/25\n",
            "1563/1563 [==============================] - 6s 4ms/step - loss: 0.6353 - accuracy: 0.7763 - val_loss: 0.8034 - val_accuracy: 0.7358\n",
            "Epoch 5/25\n",
            "1563/1563 [==============================] - 6s 4ms/step - loss: 0.5470 - accuracy: 0.8090 - val_loss: 0.8037 - val_accuracy: 0.7384\n",
            "Epoch 6/25\n",
            "1563/1563 [==============================] - 6s 4ms/step - loss: 0.4677 - accuracy: 0.8361 - val_loss: 0.7952 - val_accuracy: 0.7494\n",
            "Epoch 7/25\n",
            "1563/1563 [==============================] - 6s 4ms/step - loss: 0.4049 - accuracy: 0.8582 - val_loss: 0.8445 - val_accuracy: 0.7392\n",
            "Epoch 8/25\n",
            "1563/1563 [==============================] - 6s 4ms/step - loss: 0.3423 - accuracy: 0.8775 - val_loss: 0.8961 - val_accuracy: 0.7364\n",
            "Epoch 9/25\n",
            "1563/1563 [==============================] - 6s 4ms/step - loss: 0.2940 - accuracy: 0.8947 - val_loss: 0.9701 - val_accuracy: 0.7384\n",
            "Epoch 10/25\n",
            "1563/1563 [==============================] - 6s 4ms/step - loss: 0.2558 - accuracy: 0.9094 - val_loss: 1.0338 - val_accuracy: 0.7370\n",
            "Epoch 11/25\n",
            "1563/1563 [==============================] - 6s 4ms/step - loss: 0.2259 - accuracy: 0.9198 - val_loss: 1.0967 - val_accuracy: 0.7197\n",
            "Epoch 12/25\n",
            "1563/1563 [==============================] - 6s 4ms/step - loss: 0.1958 - accuracy: 0.9307 - val_loss: 1.1185 - val_accuracy: 0.7320\n",
            "Epoch 13/25\n",
            "1563/1563 [==============================] - 6s 4ms/step - loss: 0.1813 - accuracy: 0.9370 - val_loss: 1.2242 - val_accuracy: 0.7253\n",
            "Epoch 14/25\n",
            "1563/1563 [==============================] - 6s 4ms/step - loss: 0.1680 - accuracy: 0.9407 - val_loss: 1.3756 - val_accuracy: 0.7363\n",
            "Epoch 15/25\n",
            "1563/1563 [==============================] - 6s 4ms/step - loss: 0.1502 - accuracy: 0.9477 - val_loss: 1.3336 - val_accuracy: 0.7298\n",
            "Epoch 16/25\n",
            "1563/1563 [==============================] - 6s 4ms/step - loss: 0.1345 - accuracy: 0.9529 - val_loss: 1.4125 - val_accuracy: 0.7329\n",
            "Epoch 17/25\n",
            "1563/1563 [==============================] - 6s 4ms/step - loss: 0.1347 - accuracy: 0.9527 - val_loss: 1.4382 - val_accuracy: 0.7258\n",
            "Epoch 18/25\n",
            "1563/1563 [==============================] - 6s 4ms/step - loss: 0.1250 - accuracy: 0.9566 - val_loss: 1.5292 - val_accuracy: 0.7261\n",
            "Epoch 19/25\n",
            "1563/1563 [==============================] - 6s 4ms/step - loss: 0.1212 - accuracy: 0.9587 - val_loss: 1.5916 - val_accuracy: 0.7325\n",
            "Epoch 20/25\n",
            "1563/1563 [==============================] - 6s 4ms/step - loss: 0.1137 - accuracy: 0.9607 - val_loss: 1.5627 - val_accuracy: 0.7234\n",
            "Epoch 21/25\n",
            "1563/1563 [==============================] - 6s 4ms/step - loss: 0.1049 - accuracy: 0.9634 - val_loss: 1.6475 - val_accuracy: 0.7304\n",
            "Epoch 22/25\n",
            "1563/1563 [==============================] - 6s 4ms/step - loss: 0.0955 - accuracy: 0.9677 - val_loss: 1.6634 - val_accuracy: 0.7328\n",
            "Epoch 23/25\n",
            "1563/1563 [==============================] - 6s 4ms/step - loss: 0.1027 - accuracy: 0.9647 - val_loss: 1.6172 - val_accuracy: 0.7348\n",
            "Epoch 24/25\n",
            "1563/1563 [==============================] - 6s 4ms/step - loss: 0.1031 - accuracy: 0.9650 - val_loss: 1.7738 - val_accuracy: 0.7265\n",
            "Epoch 25/25\n",
            "1563/1563 [==============================] - 5s 4ms/step - loss: 0.0870 - accuracy: 0.9700 - val_loss: 1.7815 - val_accuracy: 0.7317\n"
          ]
        },
        {
          "output_type": "display_data",
          "data": {
            "text/plain": [
              "<Figure size 432x288 with 1 Axes>"
            ],
            "image/png": "[encoded data removed]"
          },
          "metadata": {
            "needs_background": "light"
          }
        },
        {
          "output_type": "display_data",
          "data": {
            "text/plain": [
              "<Figure size 432x288 with 1 Axes>"
            ],
            "image/png": "[encoded data removed]"
          },
          "metadata": {
            "needs_background": "light"
          }
        }
      ],
      "source": [
        "inputs = Input(shape=(x_train.shape[1:]))\n",
        "x = inputs\n",
        "\n",
        "for filters in [32, 64, 128]:\n",
        "  x = Conv2D(\n",
        "      filters=filters, kernel_size=3, strides=1, padding=\"same\", kernel_initializer='he_uniform'\n",
        "  )(x)\n",
        "  x = ReLU()(x)\n",
        "  x = MaxPooling2D(pool_size=2)(x)\n",
        "\n",
        "x = Flatten()(x)\n",
        "x = Dense(units=128, kernel_initializer='he_uniform')(x)\n",
        "x = ReLU()(x)\n",
        "x = Dense(units=64, kernel_initializer='he_uniform')(x)\n",
        "x = ReLU()(x)\n",
        "outputs = Dense(units=10, activation='softmax')(x)\n",
        "\n",
        "\n",
        "model = Model(inputs, outputs)\n",
        "model.compile(optimizer='adam', loss='sparse_categorical_crossentropy', metrics='accuracy')\n",
        "history = model.fit(x_train, y_train, validation_data=(x_test, y_test), verbose=1, epochs=25)\n",
        "print_curves(history)"
      ]
    },
    {
      "cell_type": "markdown",
      "metadata": {
        "id": "AIRIkaaiWxAx"
      },
      "source": [
        "## c) Using tanh"
      ]
    },
    {
      "cell_type": "code",
      "execution_count": 28,
      "metadata": {
        "colab": {
          "base_uri": "https://localhost:8080/",
          "height": 1000
        },
        "id": "ifQMgfEBWxAx",
        "outputId": "a1ef2239-3fdc-421a-efe9-5c915c5d31d9"
      },
      "outputs": [
        {
          "output_type": "stream",
          "name": "stdout",
          "text": [
            "Epoch 1/25\n",
            "1563/1563 [==============================] - 6s 4ms/step - loss: 1.3976 - accuracy: 0.4938 - val_loss: 1.1324 - val_accuracy: 0.5968\n",
            "Epoch 2/25\n",
            "1563/1563 [==============================] - 5s 4ms/step - loss: 1.0233 - accuracy: 0.6389 - val_loss: 0.9915 - val_accuracy: 0.6550\n",
            "Epoch 3/25\n",
            "1563/1563 [==============================] - 5s 3ms/step - loss: 0.8999 - accuracy: 0.6830 - val_loss: 0.9660 - val_accuracy: 0.6679\n",
            "Epoch 4/25\n",
            "1563/1563 [==============================] - 5s 4ms/step - loss: 0.8255 - accuracy: 0.7101 - val_loss: 0.9377 - val_accuracy: 0.6761\n",
            "Epoch 5/25\n",
            "1563/1563 [==============================] - 6s 4ms/step - loss: 0.7548 - accuracy: 0.7372 - val_loss: 0.9588 - val_accuracy: 0.6752\n",
            "Epoch 6/25\n",
            "1563/1563 [==============================] - 5s 4ms/step - loss: 0.6941 - accuracy: 0.7593 - val_loss: 0.9152 - val_accuracy: 0.6870\n",
            "Epoch 7/25\n",
            "1563/1563 [==============================] - 6s 4ms/step - loss: 0.6418 - accuracy: 0.7774 - val_loss: 0.9081 - val_accuracy: 0.6907\n",
            "Epoch 8/25\n",
            "1563/1563 [==============================] - 5s 4ms/step - loss: 0.5997 - accuracy: 0.7910 - val_loss: 0.9121 - val_accuracy: 0.7010\n",
            "Epoch 9/25\n",
            "1563/1563 [==============================] - 5s 3ms/step - loss: 0.5553 - accuracy: 0.8078 - val_loss: 0.9243 - val_accuracy: 0.6994\n",
            "Epoch 10/25\n",
            "1563/1563 [==============================] - 5s 3ms/step - loss: 0.5287 - accuracy: 0.8147 - val_loss: 0.9268 - val_accuracy: 0.7024\n",
            "Epoch 11/25\n",
            "1563/1563 [==============================] - 5s 4ms/step - loss: 0.4968 - accuracy: 0.8241 - val_loss: 0.9159 - val_accuracy: 0.7102\n",
            "Epoch 12/25\n",
            "1563/1563 [==============================] - 6s 4ms/step - loss: 0.4657 - accuracy: 0.8363 - val_loss: 0.9533 - val_accuracy: 0.6953\n",
            "Epoch 13/25\n",
            "1563/1563 [==============================] - 5s 3ms/step - loss: 0.4384 - accuracy: 0.8476 - val_loss: 0.9991 - val_accuracy: 0.6920\n",
            "Epoch 14/25\n",
            "1563/1563 [==============================] - 5s 3ms/step - loss: 0.4190 - accuracy: 0.8539 - val_loss: 0.9733 - val_accuracy: 0.7010\n",
            "Epoch 15/25\n",
            "1563/1563 [==============================] - 6s 4ms/step - loss: 0.4046 - accuracy: 0.8568 - val_loss: 0.9859 - val_accuracy: 0.7017\n",
            "Epoch 16/25\n",
            "1563/1563 [==============================] - 6s 4ms/step - loss: 0.3844 - accuracy: 0.8671 - val_loss: 1.0410 - val_accuracy: 0.6927\n",
            "Epoch 17/25\n",
            "1563/1563 [==============================] - 6s 4ms/step - loss: 0.3664 - accuracy: 0.8719 - val_loss: 1.0430 - val_accuracy: 0.7020\n",
            "Epoch 18/25\n",
            "1563/1563 [==============================] - 5s 3ms/step - loss: 0.3555 - accuracy: 0.8757 - val_loss: 1.0777 - val_accuracy: 0.6926\n",
            "Epoch 19/25\n",
            "1563/1563 [==============================] - 5s 4ms/step - loss: 0.3468 - accuracy: 0.8792 - val_loss: 1.0541 - val_accuracy: 0.7031\n",
            "Epoch 20/25\n",
            "1563/1563 [==============================] - 5s 3ms/step - loss: 0.3341 - accuracy: 0.8835 - val_loss: 1.0710 - val_accuracy: 0.6967\n",
            "Epoch 21/25\n",
            "1563/1563 [==============================] - 5s 4ms/step - loss: 0.3309 - accuracy: 0.8839 - val_loss: 1.0889 - val_accuracy: 0.6996\n",
            "Epoch 22/25\n",
            "1563/1563 [==============================] - 5s 4ms/step - loss: 0.3167 - accuracy: 0.8878 - val_loss: 1.1135 - val_accuracy: 0.6987\n",
            "Epoch 23/25\n",
            "1563/1563 [==============================] - 5s 3ms/step - loss: 0.3213 - accuracy: 0.8853 - val_loss: 1.1067 - val_accuracy: 0.7018\n",
            "Epoch 24/25\n",
            "1563/1563 [==============================] - 5s 3ms/step - loss: 0.3182 - accuracy: 0.8866 - val_loss: 1.1088 - val_accuracy: 0.6998\n",
            "Epoch 25/25\n",
            "1563/1563 [==============================] - 5s 3ms/step - loss: 0.3047 - accuracy: 0.8936 - val_loss: 1.1121 - val_accuracy: 0.7044\n"
          ]
        },
        {
          "output_type": "display_data",
          "data": {
            "text/plain": [
              "<Figure size 432x288 with 1 Axes>"
            ],
            "image/png": "[encoded data removed]"
          },
          "metadata": {
            "needs_background": "light"
          }
        },
        {
          "output_type": "display_data",
          "data": {
            "text/plain": [
              "<Figure size 432x288 with 1 Axes>"
            ],
            "image/png": "[encoded data removed]"
          },
          "metadata": {
            "needs_background": "light"
          }
        }
      ],
      "source": [
        "inputs = Input(shape=(x_train.shape[1:]))\n",
        "x = inputs\n",
        "\n",
        "for filters in [32, 64, 128]:\n",
        "  x = Conv2D(\n",
        "      filters=filters, kernel_size=3, strides=1, padding=\"same\", kernel_initializer='he_uniform', activation='tanh'\n",
        "  )(x)\n",
        "  x = MaxPooling2D(pool_size=2)(x)\n",
        "\n",
        "x = Flatten()(x)\n",
        "x = Dense(units=128, kernel_initializer='he_uniform', activation='tanh')(x)\n",
        "x = Dense(units=64, kernel_initializer='he_uniform', activation='tanh')(x)\n",
        "outputs = Dense(units=10, activation='softmax')(x)\n",
        "\n",
        "\n",
        "model = Model(inputs, outputs)\n",
        "model.compile(optimizer='adam', loss='sparse_categorical_crossentropy', metrics='accuracy')\n",
        "history = model.fit(x_train, y_train, validation_data=(x_test, y_test), verbose=1, epochs=25)\n",
        "print_curves(history)"
      ]
    },
    {
      "cell_type": "markdown",
      "metadata": {
        "id": "CeKwsparWxAy"
      },
      "source": [
        "## d) With batch normalization"
      ]
    },
    {
      "cell_type": "markdown",
      "metadata": {
        "id": "Nz07p-GpWxAy"
      },
      "source": [
        "### relu"
      ]
    },
    {
      "cell_type": "code",
      "execution_count": 29,
      "metadata": {
        "colab": {
          "base_uri": "https://localhost:8080/",
          "height": 1000
        },
        "id": "pq3aaNKdWxAz",
        "outputId": "dd073b04-6495-415f-e8db-8eabd28efa56"
      },
      "outputs": [
        {
          "output_type": "stream",
          "name": "stdout",
          "text": [
            "Epoch 1/25\n",
            "1563/1563 [==============================] - 8s 5ms/step - loss: 1.2367 - accuracy: 0.5654 - val_loss: 1.0781 - val_accuracy: 0.6242\n",
            "Epoch 2/25\n",
            "1563/1563 [==============================] - 7s 5ms/step - loss: 0.8707 - accuracy: 0.6938 - val_loss: 0.9067 - val_accuracy: 0.6843\n",
            "Epoch 3/25\n",
            "1563/1563 [==============================] - 7s 5ms/step - loss: 0.7187 - accuracy: 0.7497 - val_loss: 0.8732 - val_accuracy: 0.6919\n",
            "Epoch 4/25\n",
            "1563/1563 [==============================] - 7s 5ms/step - loss: 0.6048 - accuracy: 0.7900 - val_loss: 0.8064 - val_accuracy: 0.7237\n",
            "Epoch 5/25\n",
            "1563/1563 [==============================] - 7s 5ms/step - loss: 0.5071 - accuracy: 0.8235 - val_loss: 0.7783 - val_accuracy: 0.7351\n",
            "Epoch 6/25\n",
            "1563/1563 [==============================] - 7s 5ms/step - loss: 0.4252 - accuracy: 0.8517 - val_loss: 0.8581 - val_accuracy: 0.7326\n",
            "Epoch 7/25\n",
            "1563/1563 [==============================] - 7s 5ms/step - loss: 0.3617 - accuracy: 0.8746 - val_loss: 0.7874 - val_accuracy: 0.7480\n",
            "Epoch 8/25\n",
            "1563/1563 [==============================] - 7s 5ms/step - loss: 0.3019 - accuracy: 0.8942 - val_loss: 0.9620 - val_accuracy: 0.7179\n",
            "Epoch 9/25\n",
            "1563/1563 [==============================] - 7s 5ms/step - loss: 0.2649 - accuracy: 0.9071 - val_loss: 0.9095 - val_accuracy: 0.7485\n",
            "Epoch 10/25\n",
            "1563/1563 [==============================] - 7s 5ms/step - loss: 0.2239 - accuracy: 0.9191 - val_loss: 1.6774 - val_accuracy: 0.6131\n",
            "Epoch 11/25\n",
            "1563/1563 [==============================] - 7s 5ms/step - loss: 0.2007 - accuracy: 0.9301 - val_loss: 1.0508 - val_accuracy: 0.7214\n",
            "Epoch 12/25\n",
            "1563/1563 [==============================] - 7s 5ms/step - loss: 0.1757 - accuracy: 0.9375 - val_loss: 1.0145 - val_accuracy: 0.7349\n",
            "Epoch 13/25\n",
            "1563/1563 [==============================] - 7s 5ms/step - loss: 0.1630 - accuracy: 0.9433 - val_loss: 1.0995 - val_accuracy: 0.7332\n",
            "Epoch 14/25\n",
            "1563/1563 [==============================] - 7s 5ms/step - loss: 0.1507 - accuracy: 0.9479 - val_loss: 1.0651 - val_accuracy: 0.7439\n",
            "Epoch 15/25\n",
            "1563/1563 [==============================] - 7s 5ms/step - loss: 0.1332 - accuracy: 0.9530 - val_loss: 1.1251 - val_accuracy: 0.7404\n",
            "Epoch 16/25\n",
            "1563/1563 [==============================] - 7s 5ms/step - loss: 0.1301 - accuracy: 0.9552 - val_loss: 1.1977 - val_accuracy: 0.7333\n",
            "Epoch 17/25\n",
            "1563/1563 [==============================] - 7s 5ms/step - loss: 0.1222 - accuracy: 0.9564 - val_loss: 1.1584 - val_accuracy: 0.7426\n",
            "Epoch 18/25\n",
            "1563/1563 [==============================] - 7s 5ms/step - loss: 0.1176 - accuracy: 0.9590 - val_loss: 1.1935 - val_accuracy: 0.7404\n",
            "Epoch 19/25\n",
            "1563/1563 [==============================] - 7s 5ms/step - loss: 0.1080 - accuracy: 0.9622 - val_loss: 1.1820 - val_accuracy: 0.7374\n",
            "Epoch 20/25\n",
            "1563/1563 [==============================] - 7s 5ms/step - loss: 0.1021 - accuracy: 0.9646 - val_loss: 1.1796 - val_accuracy: 0.7485\n",
            "Epoch 21/25\n",
            "1563/1563 [==============================] - 7s 5ms/step - loss: 0.1011 - accuracy: 0.9646 - val_loss: 1.2402 - val_accuracy: 0.7324\n",
            "Epoch 22/25\n",
            "1563/1563 [==============================] - 7s 5ms/step - loss: 0.0970 - accuracy: 0.9661 - val_loss: 1.2149 - val_accuracy: 0.7470\n",
            "Epoch 23/25\n",
            "1563/1563 [==============================] - 7s 5ms/step - loss: 0.0891 - accuracy: 0.9694 - val_loss: 1.2335 - val_accuracy: 0.7466\n",
            "Epoch 24/25\n",
            "1563/1563 [==============================] - 7s 5ms/step - loss: 0.0864 - accuracy: 0.9694 - val_loss: 1.2544 - val_accuracy: 0.7449\n",
            "Epoch 25/25\n",
            "1563/1563 [==============================] - 7s 5ms/step - loss: 0.0853 - accuracy: 0.9701 - val_loss: 1.2191 - val_accuracy: 0.7512\n"
          ]
        },
        {
          "output_type": "display_data",
          "data": {
            "text/plain": [
              "<Figure size 432x288 with 1 Axes>"
            ],
            "image/png": "[encoded data removed]"
          },
          "metadata": {
            "needs_background": "light"
          }
        },
        {
          "output_type": "display_data",
          "data": {
            "text/plain": [
              "<Figure size 432x288 with 1 Axes>"
            ],
            "image/png": "[encoded data removed]"
          },
          "metadata": {
            "needs_background": "light"
          }
        }
      ],
      "source": [
        "inputs = Input(shape=(x_train.shape[1:]))\n",
        "x = inputs\n",
        "activation = 'relu'\n",
        "\n",
        "for filters in [32, 64, 128]:\n",
        "  x = Conv2D(\n",
        "      filters=filters, kernel_size=3, strides=1, padding=\"same\", kernel_initializer='he_uniform', activation=activation\n",
        "  )(x)\n",
        "  x = BatchNormalization()(x)\n",
        "  x = MaxPooling2D(pool_size=2)(x)\n",
        "\n",
        "x = Flatten()(x)\n",
        "x = Dense(units=128, kernel_initializer='he_uniform', activation=activation)(x)\n",
        "x = BatchNormalization()(x)\n",
        "x = Dense(units=64, kernel_initializer='he_uniform', activation=activation)(x)\n",
        "x = BatchNormalization()(x)\n",
        "outputs = Dense(units=10, activation='softmax')(x)\n",
        "\n",
        "\n",
        "model = Model(inputs, outputs)\n",
        "model.compile(optimizer='adam', loss='sparse_categorical_crossentropy', metrics='accuracy')\n",
        "history = model.fit(x_train, y_train, validation_data=(x_test, y_test), verbose=1, epochs=25)\n",
        "print_curves(history)\n"
      ]
    },
    {
      "cell_type": "markdown",
      "metadata": {
        "id": "-VdtVBzbWxAz"
      },
      "source": [
        "### tanh"
      ]
    },
    {
      "cell_type": "code",
      "execution_count": 30,
      "metadata": {
        "colab": {
          "base_uri": "https://localhost:8080/",
          "height": 1000
        },
        "id": "fB6i0y5VWxAz",
        "outputId": "a9228175-67f9-465d-eb19-7c6f89a357e9"
      },
      "outputs": [
        {
          "output_type": "stream",
          "name": "stdout",
          "text": [
            "Epoch 1/25\n",
            "1563/1563 [==============================] - 9s 5ms/step - loss: 1.4899 - accuracy: 0.4657 - val_loss: 1.2794 - val_accuracy: 0.5343\n",
            "Epoch 2/25\n",
            "1563/1563 [==============================] - 7s 5ms/step - loss: 1.1639 - accuracy: 0.5874 - val_loss: 1.2129 - val_accuracy: 0.5652\n",
            "Epoch 3/25\n",
            "1563/1563 [==============================] - 7s 5ms/step - loss: 1.0228 - accuracy: 0.6427 - val_loss: 1.0146 - val_accuracy: 0.6425\n",
            "Epoch 4/25\n",
            "1563/1563 [==============================] - 7s 5ms/step - loss: 0.9419 - accuracy: 0.6720 - val_loss: 1.0763 - val_accuracy: 0.6317\n",
            "Epoch 5/25\n",
            "1563/1563 [==============================] - 7s 5ms/step - loss: 0.8822 - accuracy: 0.6917 - val_loss: 1.0125 - val_accuracy: 0.6483\n",
            "Epoch 6/25\n",
            "1563/1563 [==============================] - 7s 5ms/step - loss: 0.8278 - accuracy: 0.7113 - val_loss: 1.0332 - val_accuracy: 0.6445\n",
            "Epoch 7/25\n",
            "1563/1563 [==============================] - 7s 5ms/step - loss: 0.7818 - accuracy: 0.7289 - val_loss: 1.0497 - val_accuracy: 0.6474\n",
            "Epoch 8/25\n",
            "1563/1563 [==============================] - 7s 5ms/step - loss: 0.7368 - accuracy: 0.7449 - val_loss: 0.9549 - val_accuracy: 0.6763\n",
            "Epoch 9/25\n",
            "1563/1563 [==============================] - 7s 5ms/step - loss: 0.7028 - accuracy: 0.7553 - val_loss: 0.9107 - val_accuracy: 0.6848\n",
            "Epoch 10/25\n",
            "1563/1563 [==============================] - 7s 5ms/step - loss: 0.6702 - accuracy: 0.7661 - val_loss: 1.0044 - val_accuracy: 0.6682\n",
            "Epoch 11/25\n",
            "1563/1563 [==============================] - 7s 5ms/step - loss: 0.6420 - accuracy: 0.7769 - val_loss: 0.9169 - val_accuracy: 0.6910\n",
            "Epoch 12/25\n",
            "1563/1563 [==============================] - 7s 5ms/step - loss: 0.6097 - accuracy: 0.7885 - val_loss: 0.9659 - val_accuracy: 0.6775\n",
            "Epoch 13/25\n",
            "1563/1563 [==============================] - 7s 5ms/step - loss: 0.5854 - accuracy: 0.7973 - val_loss: 1.0090 - val_accuracy: 0.6807\n",
            "Epoch 14/25\n",
            "1563/1563 [==============================] - 7s 5ms/step - loss: 0.5480 - accuracy: 0.8108 - val_loss: 1.1940 - val_accuracy: 0.6141\n",
            "Epoch 15/25\n",
            "1563/1563 [==============================] - 7s 5ms/step - loss: 0.5263 - accuracy: 0.8181 - val_loss: 0.9091 - val_accuracy: 0.7095\n",
            "Epoch 16/25\n",
            "1563/1563 [==============================] - 7s 5ms/step - loss: 0.5004 - accuracy: 0.8266 - val_loss: 0.9391 - val_accuracy: 0.6933\n",
            "Epoch 17/25\n",
            "1563/1563 [==============================] - 7s 5ms/step - loss: 0.4687 - accuracy: 0.8365 - val_loss: 0.8970 - val_accuracy: 0.7171\n",
            "Epoch 18/25\n",
            "1563/1563 [==============================] - 7s 5ms/step - loss: 0.4453 - accuracy: 0.8445 - val_loss: 0.9977 - val_accuracy: 0.6929\n",
            "Epoch 19/25\n",
            "1563/1563 [==============================] - 7s 5ms/step - loss: 0.4219 - accuracy: 0.8535 - val_loss: 0.9827 - val_accuracy: 0.7088\n",
            "Epoch 20/25\n",
            "1563/1563 [==============================] - 7s 5ms/step - loss: 0.3967 - accuracy: 0.8618 - val_loss: 1.0337 - val_accuracy: 0.6935\n",
            "Epoch 21/25\n",
            "1563/1563 [==============================] - 7s 5ms/step - loss: 0.3744 - accuracy: 0.8688 - val_loss: 1.0174 - val_accuracy: 0.7005\n",
            "Epoch 22/25\n",
            "1563/1563 [==============================] - 7s 5ms/step - loss: 0.3586 - accuracy: 0.8749 - val_loss: 1.0016 - val_accuracy: 0.7134\n",
            "Epoch 23/25\n",
            "1563/1563 [==============================] - 7s 5ms/step - loss: 0.3425 - accuracy: 0.8787 - val_loss: 0.9652 - val_accuracy: 0.7203\n",
            "Epoch 24/25\n",
            "1563/1563 [==============================] - 7s 5ms/step - loss: 0.3227 - accuracy: 0.8868 - val_loss: 1.0875 - val_accuracy: 0.7065\n",
            "Epoch 25/25\n",
            "1563/1563 [==============================] - 7s 5ms/step - loss: 0.3090 - accuracy: 0.8915 - val_loss: 1.0937 - val_accuracy: 0.6983\n"
          ]
        },
        {
          "output_type": "display_data",
          "data": {
            "text/plain": [
              "<Figure size 432x288 with 1 Axes>"
            ],
            "image/png": "[encoded data removed]"
          },
          "metadata": {
            "needs_background": "light"
          }
        },
        {
          "output_type": "display_data",
          "data": {
            "text/plain": [
              "<Figure size 432x288 with 1 Axes>"
            ],
            "image/png": "[encoded data removed]"
          },
          "metadata": {
            "needs_background": "light"
          }
        }
      ],
      "source": [
        "inputs = Input(shape=(x_train.shape[1:]))\n",
        "x = inputs\n",
        "activation = 'tanh'\n",
        "\n",
        "for filters in [32, 64, 128]:\n",
        "  x = Conv2D(\n",
        "      filters=filters, kernel_size=3, strides=1, padding=\"same\", kernel_initializer='he_uniform', activation=activation\n",
        "  )(x)\n",
        "  x = BatchNormalization()(x)\n",
        "  x = MaxPooling2D(pool_size=2)(x)\n",
        "\n",
        "x = Flatten()(x)\n",
        "x = Dense(units=128, kernel_initializer='he_uniform', activation=activation)(x)\n",
        "x = BatchNormalization()(x)\n",
        "x = Dense(units=64, kernel_initializer='he_uniform', activation=activation)(x)\n",
        "x = BatchNormalization()(x)\n",
        "outputs = Dense(units=10, activation='softmax')(x)\n",
        "\n",
        "\n",
        "model = Model(inputs, outputs)\n",
        "model.compile(optimizer='adam', loss='sparse_categorical_crossentropy', metrics='accuracy')\n",
        "history = model.fit(x_train, y_train, validation_data=(x_test, y_test), verbose=1, epochs=25)\n",
        "print_curves(history)\n"
      ]
    },
    {
      "cell_type": "markdown",
      "metadata": {
        "id": "c8B7gvfoWxA0"
      },
      "source": [
        "## e) Adding dropouts for dense layers"
      ]
    },
    {
      "cell_type": "code",
      "source": [
        "from time import perf_counter\n",
        "from contextlib import contextmanager\n",
        "\n",
        "@contextmanager\n",
        "def catchtime() -> float:\n",
        "    start = perf_counter()\n",
        "    yield lambda: perf_counter() - start"
      ],
      "metadata": {
        "id": "6CC5U7snX5jk"
      },
      "execution_count": 31,
      "outputs": []
    },
    {
      "cell_type": "markdown",
      "metadata": {
        "id": "PGrwOv6nWxA0"
      },
      "source": [
        "### Without batchnorm"
      ]
    },
    {
      "cell_type": "code",
      "execution_count": 32,
      "metadata": {
        "colab": {
          "base_uri": "https://localhost:8080/"
        },
        "id": "DVBAmzpgWxA0",
        "outputId": "205f0987-b53c-41d3-d56f-2e9c80b0afbb"
      },
      "outputs": [
        {
          "output_type": "stream",
          "name": "stdout",
          "text": [
            "Epoch 1/25\n",
            "1563/1563 [==============================] - 6s 4ms/step - loss: 1.5633 - accuracy: 0.4289 - val_loss: 1.1580 - val_accuracy: 0.5857\n",
            "Epoch 2/25\n",
            "1563/1563 [==============================] - 6s 4ms/step - loss: 1.1354 - accuracy: 0.5955 - val_loss: 0.9566 - val_accuracy: 0.6549\n",
            "Epoch 3/25\n",
            "1563/1563 [==============================] - 6s 4ms/step - loss: 0.9624 - accuracy: 0.6637 - val_loss: 0.8611 - val_accuracy: 0.7064\n",
            "Epoch 4/25\n",
            "1563/1563 [==============================] - 6s 4ms/step - loss: 0.8590 - accuracy: 0.7044 - val_loss: 0.8579 - val_accuracy: 0.7050\n",
            "Epoch 5/25\n",
            "1563/1563 [==============================] - 6s 4ms/step - loss: 0.7824 - accuracy: 0.7312 - val_loss: 0.7825 - val_accuracy: 0.7323\n",
            "Epoch 6/25\n",
            "1563/1563 [==============================] - 6s 4ms/step - loss: 0.7266 - accuracy: 0.7502 - val_loss: 0.8094 - val_accuracy: 0.7216\n",
            "Epoch 7/25\n",
            "1563/1563 [==============================] - 6s 4ms/step - loss: 0.6738 - accuracy: 0.7660 - val_loss: 0.7374 - val_accuracy: 0.7473\n",
            "Epoch 8/25\n",
            "1563/1563 [==============================] - 6s 4ms/step - loss: 0.6297 - accuracy: 0.7823 - val_loss: 0.7456 - val_accuracy: 0.7496\n",
            "Epoch 9/25\n",
            "1563/1563 [==============================] - 6s 4ms/step - loss: 0.5929 - accuracy: 0.7967 - val_loss: 0.7653 - val_accuracy: 0.7446\n",
            "Epoch 10/25\n",
            "1563/1563 [==============================] - 6s 4ms/step - loss: 0.5611 - accuracy: 0.8057 - val_loss: 0.7535 - val_accuracy: 0.7476\n",
            "Epoch 11/25\n",
            "1563/1563 [==============================] - 6s 4ms/step - loss: 0.5319 - accuracy: 0.8148 - val_loss: 0.7459 - val_accuracy: 0.7509\n",
            "Epoch 12/25\n",
            "1563/1563 [==============================] - 6s 4ms/step - loss: 0.5060 - accuracy: 0.8255 - val_loss: 0.7462 - val_accuracy: 0.7575\n",
            "Epoch 13/25\n",
            "1563/1563 [==============================] - 6s 4ms/step - loss: 0.4775 - accuracy: 0.8330 - val_loss: 0.7595 - val_accuracy: 0.7535\n",
            "Epoch 14/25\n",
            "1563/1563 [==============================] - 6s 4ms/step - loss: 0.4673 - accuracy: 0.8379 - val_loss: 0.7307 - val_accuracy: 0.7693\n",
            "Epoch 15/25\n",
            "1563/1563 [==============================] - 6s 4ms/step - loss: 0.4473 - accuracy: 0.8459 - val_loss: 0.7674 - val_accuracy: 0.7660\n",
            "Epoch 16/25\n",
            "1563/1563 [==============================] - 6s 4ms/step - loss: 0.4309 - accuracy: 0.8497 - val_loss: 0.7670 - val_accuracy: 0.7673\n",
            "Epoch 17/25\n",
            "1563/1563 [==============================] - 6s 4ms/step - loss: 0.4063 - accuracy: 0.8580 - val_loss: 0.7949 - val_accuracy: 0.7528\n",
            "Epoch 18/25\n",
            "1563/1563 [==============================] - 6s 4ms/step - loss: 0.3957 - accuracy: 0.8617 - val_loss: 0.7966 - val_accuracy: 0.7591\n",
            "Epoch 19/25\n",
            "1563/1563 [==============================] - 6s 4ms/step - loss: 0.3857 - accuracy: 0.8660 - val_loss: 0.7738 - val_accuracy: 0.7630\n",
            "Epoch 20/25\n",
            "1563/1563 [==============================] - 6s 4ms/step - loss: 0.3744 - accuracy: 0.8692 - val_loss: 0.8005 - val_accuracy: 0.7563\n",
            "Epoch 21/25\n",
            "1563/1563 [==============================] - 6s 4ms/step - loss: 0.3606 - accuracy: 0.8761 - val_loss: 0.8214 - val_accuracy: 0.7570\n",
            "Epoch 22/25\n",
            "1563/1563 [==============================] - 6s 4ms/step - loss: 0.3490 - accuracy: 0.8792 - val_loss: 0.8611 - val_accuracy: 0.7553\n",
            "Epoch 23/25\n",
            "1563/1563 [==============================] - 6s 4ms/step - loss: 0.3380 - accuracy: 0.8827 - val_loss: 0.8036 - val_accuracy: 0.7668\n",
            "Epoch 24/25\n",
            "1563/1563 [==============================] - 6s 4ms/step - loss: 0.3293 - accuracy: 0.8875 - val_loss: 0.8488 - val_accuracy: 0.7490\n",
            "Epoch 25/25\n",
            "1563/1563 [==============================] - 6s 4ms/step - loss: 0.3156 - accuracy: 0.8919 - val_loss: 0.8301 - val_accuracy: 0.7557\n",
            "Execution time without batchnorm: 142.3174 secs\n"
          ]
        }
      ],
      "source": [
        "inputs = Input(shape=(x_train.shape[1:]))\n",
        "x = inputs\n",
        "activation = 'relu'\n",
        "\n",
        "for filters in [32, 64, 128]:\n",
        "  x = Conv2D(\n",
        "      filters=filters, kernel_size=3, strides=1, padding=\"same\", kernel_initializer='he_uniform', activation=activation\n",
        "  )(x)\n",
        "  x = MaxPooling2D(pool_size=2)(x)\n",
        "\n",
        "x = Flatten()(x)\n",
        "x = Dropout(0.2)(x)\n",
        "x = Dense(units=128, kernel_initializer='he_uniform', activation=activation)(x)\n",
        "x = Dropout(0.2)(x)\n",
        "x = Dense(units=64, kernel_initializer='he_uniform', activation=activation)(x)\n",
        "x = Dropout(0.2)(x)\n",
        "outputs = Dense(units=10, activation='softmax')(x)\n",
        "\n",
        "\n",
        "model = Model(inputs, outputs)\n",
        "model.compile(optimizer='adam', loss='sparse_categorical_crossentropy', metrics='accuracy')\n",
        "with catchtime() as t:\n",
        "  history = model.fit(x_train, y_train, validation_data=(x_test, y_test), verbose=1, epochs=25)\n",
        "print(f\"Execution time without batchnorm: {t():.4f} secs\")\n"
      ]
    },
    {
      "cell_type": "code",
      "source": [
        "print_curves(history)"
      ],
      "metadata": {
        "colab": {
          "base_uri": "https://localhost:8080/",
          "height": 309
        },
        "id": "zRud6shlZWCL",
        "outputId": "4f3b8660-8ac7-454d-b8f3-cf4af4bbf68b"
      },
      "execution_count": 33,
      "outputs": [
        {
          "output_type": "display_data",
          "data": {
            "text/plain": [
              "<Figure size 432x288 with 1 Axes>"
            ],
            "image/png": "[encoded data removed]"
          },
          "metadata": {
            "needs_background": "light"
          }
        },
        {
          "output_type": "display_data",
          "data": {
            "text/plain": [
              "<Figure size 432x288 with 1 Axes>"
            ],
            "image/png": "[encoded data removed]"
          },
          "metadata": {
            "needs_background": "light"
          }
        }
      ]
    },
    {
      "cell_type": "markdown",
      "metadata": {
        "id": "RiGYNqSkWxA0"
      },
      "source": [
        "### With batchnorm"
      ]
    },
    {
      "cell_type": "code",
      "execution_count": 34,
      "metadata": {
        "colab": {
          "base_uri": "https://localhost:8080/"
        },
        "id": "jFnvcAbhWxA0",
        "outputId": "1694856d-fb75-4daf-f23e-52ce833dd44c"
      },
      "outputs": [
        {
          "output_type": "stream",
          "name": "stdout",
          "text": [
            "Epoch 1/25\n",
            "1563/1563 [==============================] - 9s 5ms/step - loss: 1.4552 - accuracy: 0.4840 - val_loss: 1.1017 - val_accuracy: 0.6078\n",
            "Epoch 2/25\n",
            "1563/1563 [==============================] - 7s 5ms/step - loss: 1.0317 - accuracy: 0.6393 - val_loss: 0.9183 - val_accuracy: 0.6739\n",
            "Epoch 3/25\n",
            "1563/1563 [==============================] - 8s 5ms/step - loss: 0.8813 - accuracy: 0.6942 - val_loss: 0.8410 - val_accuracy: 0.7097\n",
            "Epoch 4/25\n",
            "1563/1563 [==============================] - 8s 5ms/step - loss: 0.7856 - accuracy: 0.7288 - val_loss: 0.8350 - val_accuracy: 0.7071\n",
            "Epoch 5/25\n",
            "1563/1563 [==============================] - 8s 5ms/step - loss: 0.7108 - accuracy: 0.7562 - val_loss: 0.9202 - val_accuracy: 0.6890\n",
            "Epoch 6/25\n",
            "1563/1563 [==============================] - 8s 5ms/step - loss: 0.6463 - accuracy: 0.7770 - val_loss: 0.6697 - val_accuracy: 0.7708\n",
            "Epoch 7/25\n",
            "1563/1563 [==============================] - 7s 5ms/step - loss: 0.5972 - accuracy: 0.7935 - val_loss: 0.6784 - val_accuracy: 0.7683\n",
            "Epoch 8/25\n",
            "1563/1563 [==============================] - 7s 5ms/step - loss: 0.5564 - accuracy: 0.8079 - val_loss: 0.7193 - val_accuracy: 0.7577\n",
            "Epoch 9/25\n",
            "1563/1563 [==============================] - 7s 5ms/step - loss: 0.5112 - accuracy: 0.8217 - val_loss: 0.7159 - val_accuracy: 0.7567\n",
            "Epoch 10/25\n",
            "1563/1563 [==============================] - 8s 5ms/step - loss: 0.4761 - accuracy: 0.8351 - val_loss: 0.6813 - val_accuracy: 0.7722\n",
            "Epoch 11/25\n",
            "1563/1563 [==============================] - 8s 5ms/step - loss: 0.4482 - accuracy: 0.8458 - val_loss: 0.7278 - val_accuracy: 0.7654\n",
            "Epoch 12/25\n",
            "1563/1563 [==============================] - 8s 5ms/step - loss: 0.4240 - accuracy: 0.8546 - val_loss: 0.6556 - val_accuracy: 0.7866\n",
            "Epoch 13/25\n",
            "1563/1563 [==============================] - 7s 5ms/step - loss: 0.3973 - accuracy: 0.8625 - val_loss: 0.7834 - val_accuracy: 0.7556\n",
            "Epoch 14/25\n",
            "1563/1563 [==============================] - 8s 5ms/step - loss: 0.3712 - accuracy: 0.8708 - val_loss: 0.6846 - val_accuracy: 0.7829\n",
            "Epoch 15/25\n",
            "1563/1563 [==============================] - 8s 5ms/step - loss: 0.3572 - accuracy: 0.8754 - val_loss: 0.6874 - val_accuracy: 0.7848\n",
            "Epoch 16/25\n",
            "1563/1563 [==============================] - 7s 5ms/step - loss: 0.3431 - accuracy: 0.8825 - val_loss: 0.7367 - val_accuracy: 0.7736\n",
            "Epoch 17/25\n",
            "1563/1563 [==============================] - 8s 5ms/step - loss: 0.3232 - accuracy: 0.8888 - val_loss: 0.8001 - val_accuracy: 0.7611\n",
            "Epoch 18/25\n",
            "1563/1563 [==============================] - 8s 5ms/step - loss: 0.3112 - accuracy: 0.8905 - val_loss: 0.7540 - val_accuracy: 0.7702\n",
            "Epoch 19/25\n",
            "1563/1563 [==============================] - 8s 5ms/step - loss: 0.2959 - accuracy: 0.8959 - val_loss: 0.8485 - val_accuracy: 0.7545\n",
            "Epoch 20/25\n",
            "1563/1563 [==============================] - 7s 5ms/step - loss: 0.2892 - accuracy: 0.8981 - val_loss: 0.7403 - val_accuracy: 0.7835\n",
            "Epoch 21/25\n",
            "1563/1563 [==============================] - 7s 5ms/step - loss: 0.2746 - accuracy: 0.9047 - val_loss: 0.7299 - val_accuracy: 0.7830\n",
            "Epoch 22/25\n",
            "1563/1563 [==============================] - 7s 5ms/step - loss: 0.2603 - accuracy: 0.9105 - val_loss: 0.7239 - val_accuracy: 0.7863\n",
            "Epoch 23/25\n",
            "1563/1563 [==============================] - 7s 5ms/step - loss: 0.2609 - accuracy: 0.9098 - val_loss: 0.7940 - val_accuracy: 0.7713\n",
            "Epoch 24/25\n",
            "1563/1563 [==============================] - 7s 5ms/step - loss: 0.2450 - accuracy: 0.9147 - val_loss: 0.7332 - val_accuracy: 0.7908\n",
            "Epoch 25/25\n",
            "1563/1563 [==============================] - 8s 5ms/step - loss: 0.2440 - accuracy: 0.9155 - val_loss: 0.7479 - val_accuracy: 0.7842\n",
            "Execution time with batchnorm: 190.4116 secs\n"
          ]
        }
      ],
      "source": [
        "inputs = Input(shape=(x_train.shape[1:]))\n",
        "x = inputs\n",
        "activation = 'relu'\n",
        "\n",
        "for filters in [32, 64, 128]:\n",
        "  x = Conv2D(\n",
        "      filters=filters, kernel_size=3, strides=1, padding=\"same\", kernel_initializer='he_uniform', activation=activation\n",
        "  )(x)\n",
        "  x = BatchNormalization()(x)\n",
        "  x = MaxPooling2D(pool_size=2)(x)\n",
        "\n",
        "x = Flatten()(x)\n",
        "x = Dropout(0.2)(x)\n",
        "x = Dense(units=128, kernel_initializer='he_uniform', activation=activation)(x)\n",
        "x = BatchNormalization()(x)\n",
        "x = Dropout(0.2)(x)\n",
        "x = Dense(units=64, kernel_initializer='he_uniform', activation=activation)(x)\n",
        "x = BatchNormalization()(x)\n",
        "x = Dropout(0.2)(x)\n",
        "outputs = Dense(units=10, activation='softmax')(x)\n",
        "\n",
        "\n",
        "model = Model(inputs, outputs)\n",
        "model.compile(optimizer='adam', loss='sparse_categorical_crossentropy', metrics='accuracy')\n",
        "with catchtime() as t:\n",
        "  history = model.fit(x_train, y_train, validation_data=(x_test, y_test), verbose=1, epochs=25)\n",
        "print(f\"Execution time with batchnorm: {t():.4f} secs\")\n"
      ]
    },
    {
      "cell_type": "code",
      "source": [
        "print_curves(history)"
      ],
      "metadata": {
        "colab": {
          "base_uri": "https://localhost:8080/",
          "height": 309
        },
        "id": "jAWMvzHRZRp1",
        "outputId": "507de83e-53bf-4f56-b6df-70c6d806bd0e"
      },
      "execution_count": 35,
      "outputs": [
        {
          "output_type": "display_data",
          "data": {
            "text/plain": [
              "<Figure size 432x288 with 1 Axes>"
            ],
            "image/png": "[encoded data removed]"
          },
          "metadata": {
            "needs_background": "light"
          }
        },
        {
          "output_type": "display_data",
          "data": {
            "text/plain": [
              "<Figure size 432x288 with 1 Axes>"
            ],
            "image/png": "[encoded data removed]"
          },
          "metadata": {
            "needs_background": "light"
          }
        }
      ]
    },
    {
      "cell_type": "code",
      "source": [
        "with catchtime() as t:\n",
        "  import time\n",
        "  time.sleep(4)\n",
        "  print(f\"Execution time: {t():.4f} secs\")"
      ],
      "metadata": {
        "colab": {
          "base_uri": "https://localhost:8080/"
        },
        "id": "O-x39RupY9Gd",
        "outputId": "cd8197d7-7b0c-40c4-976c-da3f192bdef5"
      },
      "execution_count": 36,
      "outputs": [
        {
          "output_type": "stream",
          "name": "stdout",
          "text": [
            "Execution time: 4.0025 secs\n"
          ]
        }
      ]
    },
    {
      "cell_type": "markdown",
      "source": [
        "## f) Discussion\n",
        "\n",
        "\n",
        "\n",
        "*   Relu vs Tanh: Tanh activation seems to be performing about 3% worse than relu on average. Also tanh appears to lead to more fluctuation during convergence.\n",
        "*   Batchnorm: Batchnorm helps to improve the performance for another 2%, but seems to work better with relu compared to tanh. In terms of convergence speed up, the examples above show that the speedup factor for this example lies somewhere around 3-5x.\n",
        "*   Dropout: Dropout regulariztation increases the validation accuracy to almost 76%. As expected, overfitting is reduced by distributing the gained knownledge between the different nodes in the network.\n",
        "\n",
        "\n",
        "\n",
        "\n",
        "\n"
      ],
      "metadata": {
        "id": "f3Z9n7eDXiTz"
      }
    }
  ],
  "metadata": {
    "interpreter": {
      "hash": "a4ae42cfce127f517c60b898ce136c8b9350b981ca09d43bbb9e70a29b20551e"
    },
    "kernelspec": {
      "display_name": "Python 3.8.10 ('MSE_DeLearn-VzVTDhlW')",
      "language": "python",
      "name": "python3"
    },
    "language_info": {
      "codemirror_mode": {
        "name": "ipython",
        "version": 3
      },
      "file_extension": ".py",
      "mimetype": "text/x-python",
      "name": "python",
      "nbconvert_exporter": "python",
      "pygments_lexer": "ipython3",
      "version": "3.8.10"
    },
    "orig_nbformat": 4,
    "colab": {
      "name": "eval_batchnorm_group04.ipynb",
      "provenance": [],
      "collapsed_sections": [],
      "machine_shape": "hm"
    },
    "accelerator": "GPU"
  },
  "nbformat": 4,
  "nbformat_minor": 0
}