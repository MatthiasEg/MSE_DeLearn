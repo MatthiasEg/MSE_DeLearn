{
  "cells": [
    {
      "cell_type": "markdown",
      "metadata": {
        "id": "ry11TcV_3iWo"
      },
      "source": [
        "# PW09 - Group 4\n",
        "* Florian Bär\n",
        "* Matthias Egli\n",
        "* Manuel Vogel\n",
        "* Adrian Willi"
      ]
    },
    {
      "cell_type": "code",
      "execution_count": 49,
      "metadata": {
        "scrolled": true,
        "id": "7nkXPN653iWq"
      },
      "outputs": [],
      "source": [
        "import glob\n",
        "import os\n",
        "import string\n",
        "\n",
        "import numpy as np\n",
        "import pandas as pd\n",
        "\n",
        "from matplotlib import pyplot as plt\n",
        "import matplotlib.ticker as ticker\n",
        "\n",
        "from sklearn.metrics import confusion_matrix"
      ]
    },
    {
      "cell_type": "markdown",
      "metadata": {
        "id": "umbAPeVM3iWr"
      },
      "source": [
        "### Load Data\n",
        "\n",
        "The names can be found in text files in a src directory, one file per language.\n",
        "\n",
        "In the following you can find some utilities to load the data into pandas data frames. \n",
        "\n",
        "We will restrict to some common European languages. \n",
        "\n",
        "With the given selection, we will identify all the occurring characters and initialize an alphabet.<br>\n",
        "For this alphabet, we will use a one-hot-encoding to map them into a vector space representation. \n",
        "\n",
        "Foresee a suitable character for the end of the word, e.g. 'END'."
      ]
    },
    {
      "cell_type": "code",
      "execution_count": 50,
      "metadata": {
        "id": "84gRU1BW3iWs"
      },
      "outputs": [],
      "source": [
        "srcdir = 'data/names'\n",
        "languages = [\"English\",\"French\",\"Italian\",\"German\",\"Spanish\"]"
      ]
    },
    {
      "cell_type": "code",
      "execution_count": 51,
      "metadata": {
        "id": "ONy0FvPo3iWs"
      },
      "outputs": [],
      "source": [
        "# inspect the data directory\n",
        "def findFiles(path): \n",
        "    return glob.glob(path)"
      ]
    },
    {
      "cell_type": "code",
      "execution_count": 52,
      "metadata": {
        "colab": {
          "base_uri": "https://localhost:8080/"
        },
        "id": "5wUGbJ_p3iWt",
        "outputId": "a0359053-76a2-455c-b7c2-4e674ca31e4c"
      },
      "outputs": [
        {
          "output_type": "stream",
          "name": "stdout",
          "text": [
            "data/names/Spanish.txt\n",
            "data/names/Japanese.txt\n",
            "data/names/Portuguese.txt\n",
            "data/names/Arabic.txt\n",
            "data/names/Polish.txt\n",
            "data/names/Russian.txt\n",
            "data/names/Czech.txt\n",
            "data/names/Dutch.txt\n",
            "data/names/Vietnamese.txt\n",
            "data/names/Irish.txt\n",
            "data/names/Scottish.txt\n",
            "data/names/English.txt\n",
            "data/names/Greek.txt\n",
            "data/names/Italian.txt\n",
            "data/names/German.txt\n",
            "data/names/French.txt\n",
            "data/names/Chinese.txt\n",
            "data/names/Korean.txt\n"
          ]
        }
      ],
      "source": [
        "print('\\n'.join(findFiles(os.path.join(srcdir,'*.txt'))))"
      ]
    },
    {
      "cell_type": "code",
      "execution_count": 53,
      "metadata": {
        "id": "iJHMXQfr3iWu"
      },
      "outputs": [],
      "source": [
        "# Read a file and split into lines\n",
        "def readLines(filename):\n",
        "    lines = open(filename, encoding='utf-8').read().strip().split('\\n')\n",
        "    return lines\n",
        "\n",
        "def load_data(srcdir, categories=None):\n",
        "    names_list = []\n",
        "    for filename in findFiles(os.path.join(srcdir,'*.txt')):\n",
        "        category = os.path.splitext(os.path.basename(filename))[0]\n",
        "        if not categories or category in categories: \n",
        "            names = readLines(filename)\n",
        "            names_list.extend([(name,category) for name in names])\n",
        "    df = pd.DataFrame(names_list)\n",
        "    df.columns = [\"name\",\"lang\"]\n",
        "    return df"
      ]
    },
    {
      "cell_type": "code",
      "execution_count": 54,
      "metadata": {
        "colab": {
          "base_uri": "https://localhost:8080/",
          "height": 206
        },
        "id": "UMO3cuG_3iWu",
        "outputId": "6c251478-4737-49e6-deb3-1f96aa024765"
      },
      "outputs": [
        {
          "output_type": "execute_result",
          "data": {
            "text/plain": [
              "      name     lang\n",
              "0    Abana  Spanish\n",
              "1    Abano  Spanish\n",
              "2   Abarca  Spanish\n",
              "3   Abaroa  Spanish\n",
              "4  Abascal  Spanish"
            ],
            "text/html": [
              "\n",
              "  <div id=\"df-8534d470-71a8-4636-a9e2-400790471af6\">\n",
              "    <div class=\"colab-df-container\">\n",
              "      <div>\n",
              "<style scoped>\n",
              "    .dataframe tbody tr th:only-of-type {\n",
              "        vertical-align: middle;\n",
              "    }\n",
              "\n",
              "    .dataframe tbody tr th {\n",
              "        vertical-align: top;\n",
              "    }\n",
              "\n",
              "    .dataframe thead th {\n",
              "        text-align: right;\n",
              "    }\n",
              "</style>\n",
              "<table border=\"1\" class=\"dataframe\">\n",
              "  <thead>\n",
              "    <tr style=\"text-align: right;\">\n",
              "      <th></th>\n",
              "      <th>name</th>\n",
              "      <th>lang</th>\n",
              "    </tr>\n",
              "  </thead>\n",
              "  <tbody>\n",
              "    <tr>\n",
              "      <th>0</th>\n",
              "      <td>Abana</td>\n",
              "      <td>Spanish</td>\n",
              "    </tr>\n",
              "    <tr>\n",
              "      <th>1</th>\n",
              "      <td>Abano</td>\n",
              "      <td>Spanish</td>\n",
              "    </tr>\n",
              "    <tr>\n",
              "      <th>2</th>\n",
              "      <td>Abarca</td>\n",
              "      <td>Spanish</td>\n",
              "    </tr>\n",
              "    <tr>\n",
              "      <th>3</th>\n",
              "      <td>Abaroa</td>\n",
              "      <td>Spanish</td>\n",
              "    </tr>\n",
              "    <tr>\n",
              "      <th>4</th>\n",
              "      <td>Abascal</td>\n",
              "      <td>Spanish</td>\n",
              "    </tr>\n",
              "  </tbody>\n",
              "</table>\n",
              "</div>\n",
              "      <button class=\"colab-df-convert\" onclick=\"convertToInteractive('df-8534d470-71a8-4636-a9e2-400790471af6')\"\n",
              "              title=\"Convert this dataframe to an interactive table.\"\n",
              "              style=\"display:none;\">\n",
              "        \n",
              "  <svg xmlns=\"http://www.w3.org/2000/svg\" height=\"24px\"viewBox=\"0 0 24 24\"\n",
              "       width=\"24px\">\n",
              "    <path d=\"M0 0h24v24H0V0z\" fill=\"none\"/>\n",
              "    <path d=\"M18.56 5.44l.94 2.06.94-2.06 2.06-.94-2.06-.94-.94-2.06-.94 2.06-2.06.94zm-11 1L8.5 8.5l.94-2.06 2.06-.94-2.06-.94L8.5 2.5l-.94 2.06-2.06.94zm10 10l.94 2.06.94-2.06 2.06-.94-2.06-.94-.94-2.06-.94 2.06-2.06.94z\"/><path d=\"M17.41 7.96l-1.37-1.37c-.4-.4-.92-.59-1.43-.59-.52 0-1.04.2-1.43.59L10.3 9.45l-7.72 7.72c-.78.78-.78 2.05 0 2.83L4 21.41c.39.39.9.59 1.41.59.51 0 1.02-.2 1.41-.59l7.78-7.78 2.81-2.81c.8-.78.8-2.07 0-2.86zM5.41 20L4 18.59l7.72-7.72 1.47 1.35L5.41 20z\"/>\n",
              "  </svg>\n",
              "      </button>\n",
              "      \n",
              "  <style>\n",
              "    .colab-df-container {\n",
              "      display:flex;\n",
              "      flex-wrap:wrap;\n",
              "      gap: 12px;\n",
              "    }\n",
              "\n",
              "    .colab-df-convert {\n",
              "      background-color: #E8F0FE;\n",
              "      border: none;\n",
              "      border-radius: 50%;\n",
              "      cursor: pointer;\n",
              "      display: none;\n",
              "      fill: #1967D2;\n",
              "      height: 32px;\n",
              "      padding: 0 0 0 0;\n",
              "      width: 32px;\n",
              "    }\n",
              "\n",
              "    .colab-df-convert:hover {\n",
              "      background-color: #E2EBFA;\n",
              "      box-shadow: 0px 1px 2px rgba(60, 64, 67, 0.3), 0px 1px 3px 1px rgba(60, 64, 67, 0.15);\n",
              "      fill: #174EA6;\n",
              "    }\n",
              "\n",
              "    [theme=dark] .colab-df-convert {\n",
              "      background-color: #3B4455;\n",
              "      fill: #D2E3FC;\n",
              "    }\n",
              "\n",
              "    [theme=dark] .colab-df-convert:hover {\n",
              "      background-color: #434B5C;\n",
              "      box-shadow: 0px 1px 3px 1px rgba(0, 0, 0, 0.15);\n",
              "      filter: drop-shadow(0px 1px 2px rgba(0, 0, 0, 0.3));\n",
              "      fill: #FFFFFF;\n",
              "    }\n",
              "  </style>\n",
              "\n",
              "      <script>\n",
              "        const buttonEl =\n",
              "          document.querySelector('#df-8534d470-71a8-4636-a9e2-400790471af6 button.colab-df-convert');\n",
              "        buttonEl.style.display =\n",
              "          google.colab.kernel.accessAllowed ? 'block' : 'none';\n",
              "\n",
              "        async function convertToInteractive(key) {\n",
              "          const element = document.querySelector('#df-8534d470-71a8-4636-a9e2-400790471af6');\n",
              "          const dataTable =\n",
              "            await google.colab.kernel.invokeFunction('convertToInteractive',\n",
              "                                                     [key], {});\n",
              "          if (!dataTable) return;\n",
              "\n",
              "          const docLinkHtml = 'Like what you see? Visit the ' +\n",
              "            '<a target=\"_blank\" href=https://colab.research.google.com/notebooks/data_table.ipynb>data table notebook</a>'\n",
              "            + ' to learn more about interactive tables.';\n",
              "          element.innerHTML = '';\n",
              "          dataTable['output_type'] = 'display_data';\n",
              "          await google.colab.output.renderOutput(dataTable, element);\n",
              "          const docLink = document.createElement('div');\n",
              "          docLink.innerHTML = docLinkHtml;\n",
              "          element.appendChild(docLink);\n",
              "        }\n",
              "      </script>\n",
              "    </div>\n",
              "  </div>\n",
              "  "
            ]
          },
          "metadata": {},
          "execution_count": 54
        }
      ],
      "source": [
        "names = load_data(srcdir,categories=languages)\n",
        "names.head()"
      ]
    },
    {
      "cell_type": "code",
      "execution_count": 55,
      "metadata": {
        "colab": {
          "base_uri": "https://localhost:8080/"
        },
        "id": "l3CAAG7t3iWv",
        "outputId": "2e848ff0-47c8-4241-b509-f833d5f5f6ab"
      },
      "outputs": [
        {
          "output_type": "stream",
          "name": "stdout",
          "text": [
            "Maximum name length:  18\n"
          ]
        }
      ],
      "source": [
        "maxlen = np.max([len(name) for name in names.name])\n",
        "print(\"Maximum name length: \", maxlen)"
      ]
    },
    {
      "cell_type": "code",
      "execution_count": 56,
      "metadata": {
        "colab": {
          "base_uri": "https://localhost:8080/"
        },
        "id": "RnFTBvQx3iWv",
        "outputId": "9b083623-6849-42bf-94a3-1425a9bac18d"
      },
      "outputs": [
        {
          "output_type": "stream",
          "name": "stdout",
          "text": [
            "Size of alphabet:  74\n",
            "[' ', \"'\", 'A', 'B', 'C', 'D', 'E', 'F', 'G', 'H', 'I', 'J', 'K', 'L', 'M', 'N', 'O', 'P', 'Q', 'R', 'S', 'T', 'U', 'V', 'W', 'X', 'Y', 'Z', 'a', 'b', 'c', 'd', 'e', 'f', 'g', 'h', 'i', 'j', 'k', 'l', 'm', 'n', 'o', 'p', 'q', 'r', 's', 't', 'u', 'v', 'w', 'x', 'y', 'z', 'Á', 'É', 'ß', 'à', 'á', 'ä', 'ç', 'è', 'é', 'ê', 'ì', 'í', 'ñ', 'ò', 'ó', 'ö', 'ù', 'ú', 'ü', 'END']\n"
          ]
        }
      ],
      "source": [
        "alphabet = sorted(list(set(''.join([name for name in names.name]))))\n",
        "alphabet.append('END')\n",
        "len_alphabet = len(alphabet)\n",
        "char_index = dict((c, i) for i, c in enumerate(alphabet))\n",
        "print(\"Size of alphabet: \",len_alphabet)\n",
        "print(alphabet)"
      ]
    },
    {
      "cell_type": "code",
      "execution_count": 57,
      "metadata": {
        "colab": {
          "base_uri": "https://localhost:8080/"
        },
        "id": "k6ytsyR23iWw",
        "outputId": "5c2079f7-769b-44d2-de2f-77d6b63f1d01"
      },
      "outputs": [
        {
          "output_type": "execute_result",
          "data": {
            "text/plain": [
              "lang\n",
              "English    0.646230\n",
              "French     0.048802\n",
              "German     0.127555\n",
              "Italian    0.124912\n",
              "Spanish    0.052502\n",
              "Name: name, dtype: float64"
            ]
          },
          "metadata": {},
          "execution_count": 57
        }
      ],
      "source": [
        "names.groupby('lang')['name'].count()/len(names)"
      ]
    },
    {
      "cell_type": "markdown",
      "metadata": {
        "id": "8ryJx8sA3iWw"
      },
      "source": [
        "### Vector Representations\n",
        "\n",
        "Now construct the vector representation by using one-hot-vectors. "
      ]
    },
    {
      "cell_type": "code",
      "execution_count": 58,
      "metadata": {
        "id": "jmG6CxcM3iWx"
      },
      "outputs": [],
      "source": [
        "language_to_index = {country:index for index,country in enumerate(names.lang.unique())}\n",
        "index_to_language = {index:country for index,country in enumerate(names.lang.unique())}\n",
        "\n",
        "def onehot(i, length):\n",
        "    v = np.zeros(length);\n",
        "    v[i] = 1\n",
        "    return v\n",
        "\n",
        "def name_representation(name, maxlen):\n",
        "    ### START YOUR CODE\n",
        "    name_trunc = str(name)[0:maxlen]\n",
        "    size = len(char_index)\n",
        "    vector = [onehot(char_index[j], size) for j in str(name)]\n",
        "    # fill the rest with \n",
        "    for k in range(0,maxlen - len(str(name))):\n",
        "        vector.append(onehot(char_index['END'], size))\n",
        "    return vector\n",
        "    ### START YOUR CODE\n",
        "\n",
        "def lang_representation(language, language_to_index):\n",
        "    y = np.zeros(len(language_to_index))\n",
        "    y[language_to_index[language]]=1\n",
        "    return y\n",
        "\n",
        "def lang_from_output(score):\n",
        "    return index_to_language[np.argmax(score)]\n",
        "\n",
        "def predict(name, model):\n",
        "    score = model.predict(np.array([name_representation(name, maxlen)]))[0]\n",
        "    return lang_from_output(score)"
      ]
    },
    {
      "cell_type": "markdown",
      "metadata": {
        "id": "9hWTaXSj3iWx"
      },
      "source": [
        "### Prepare train/test\n",
        "\n",
        "Split the data into train/test\n",
        "\n",
        "Shuffle the data\n",
        "\n",
        "Transform the names data into a suitable vector respresentation:\n",
        "* names into numpy arrays of shape (*,maxlen,len_alphabet)\n",
        "* language into numpy array of shape (*,len(languages))\n",
        "\n"
      ]
    },
    {
      "cell_type": "code",
      "execution_count": 59,
      "metadata": {
        "id": "djv_EHxv3iWy"
      },
      "outputs": [],
      "source": [
        "test_split_percentage = 0.2\n",
        "from sklearn.model_selection import train_test_split\n",
        "\n",
        "### START YOUR CODE\n",
        "# Shuffle and split names data\n",
        "\n",
        "train, test = train_test_split(\n",
        "    names, test_size=test_split_percentage, shuffle=True, random_state=42\n",
        ")  # shuffles dataset splits in fraction and returns train test set full\n",
        "\n",
        "### END YOUR CODE\n"
      ]
    },
    {
      "cell_type": "code",
      "execution_count": 60,
      "metadata": {
        "id": "R057Sxcm3iWy"
      },
      "outputs": [],
      "source": [
        "### START YOUR CODE\n",
        "\n",
        "# Map train and test data into vector space (one-hot-vectors)\n",
        "\n",
        "X_train = np.array([name_representation(name, maxlen) for name in train.name])\n",
        "y_train = np.array([lang_representation(language, language_to_index) for language in train.lang])\n",
        "\n",
        "X_test = np.array([name_representation(name, maxlen) for name in test.name])\n",
        "y_test = np.array([lang_representation(language, language_to_index) for language in test.lang])\n",
        "\n",
        "\n",
        "### END YOUR CODE"
      ]
    },
    {
      "cell_type": "markdown",
      "metadata": {
        "id": "1WBqU_DW3iWy"
      },
      "source": [
        "Possibly, pack the data into a Dataset (e.g. when working with in PyTorch)"
      ]
    },
    {
      "cell_type": "markdown",
      "metadata": {
        "id": "EGhEjJzk3iWz"
      },
      "source": [
        "### Define and Train Model: Single Layer with SimpleRNN\n",
        "\n",
        "Create an RNN consisting of a single layer with a SimpleRNN (keras) and a softmax.\n",
        "\n",
        "Then train the model. Play with different number of hidden units in the layer to obtain a good accuracy."
      ]
    },
    {
      "cell_type": "code",
      "execution_count": 61,
      "metadata": {
        "id": "yBxGt1sm3iWz"
      },
      "outputs": [],
      "source": [
        "import matplotlib.pyplot as plt\n",
        "from sklearn.metrics import (\n",
        "    confusion_matrix,\n",
        "    classification_report,\n",
        ")\n",
        "\n",
        "\n",
        "def print_curves(history):\n",
        "    # plot loss\n",
        "    plt.subplot(211)\n",
        "    plt.title(\"Cross Entropy Loss\")\n",
        "    plt.plot(history.history[\"loss\"], color=\"blue\", label=\"train\")\n",
        "    plt.plot(history.history[\"val_loss\"], color=\"orange\", label=\"test\")\n",
        "    plt.legend()\n",
        "    plt.show()\n",
        "    # plot accuracy\n",
        "    plt.subplot(212)\n",
        "    plt.title(\"Classification Accuracy\")\n",
        "    plt.plot(history.history[\"accuracy\"], color=\"blue\", label=\"train\")\n",
        "    plt.plot(history.history[\"val_accuracy\"], color=\"orange\", label=\"test\")\n",
        "    plt.show()\n",
        "    plt.close()\n",
        "\n",
        "\n",
        "def print_metrics(x_test, y_test, model):\n",
        "    y_pred = model.predict(x_test, verbose=0)\n",
        "\n",
        "    y_pred = np.argmax(y_pred, axis=-1)\n",
        "    y_test = np.argmax(y_test, axis=-1)\n",
        "    print(confusion_matrix(y_test, y_pred))\n",
        "    print(classification_report(y_test, y_pred))\n",
        "\n",
        "\n",
        "def display_model_stats(x_test, y_test, model, history):\n",
        "    print_metrics(x_test, y_test, model)\n",
        "    print_curves(history)\n"
      ]
    },
    {
      "cell_type": "code",
      "execution_count": 14,
      "metadata": {
        "tags": [],
        "colab": {
          "base_uri": "https://localhost:8080/"
        },
        "id": "Yj5KCffv3iWz",
        "outputId": "0501b6a2-d85b-4b6f-f112-b49dc0a4f7d5"
      },
      "outputs": [
        {
          "output_type": "stream",
          "name": "stdout",
          "text": [
            "Model: \"model\"\n",
            "_________________________________________________________________\n",
            " Layer (type)                Output Shape              Param #   \n",
            "=================================================================\n",
            " input_1 (InputLayer)        [(None, 18, 74)]          0         \n",
            "                                                                 \n",
            " simple_rnn (SimpleRNN)      (None, 30)                3150      \n",
            "                                                                 \n",
            " flatten (Flatten)           (None, 30)                0         \n",
            "                                                                 \n",
            " dense (Dense)               (None, 5)                 155       \n",
            "                                                                 \n",
            "=================================================================\n",
            "Total params: 3,305\n",
            "Trainable params: 3,305\n",
            "Non-trainable params: 0\n",
            "_________________________________________________________________\n"
          ]
        },
        {
          "output_type": "stream",
          "name": "stderr",
          "text": [
            "/usr/local/lib/python3.7/dist-packages/keras/optimizer_v2/adam.py:105: UserWarning: The `lr` argument is deprecated, use `learning_rate` instead.\n",
            "  super(Adam, self).__init__(name, **kwargs)\n"
          ]
        }
      ],
      "source": [
        "### START YOUR CODE\n",
        "\n",
        "# SimpleRNN, single layer with tf.keras....\n",
        "from keras.layers import *\n",
        "from keras import Model\n",
        "\n",
        "hidden_units = 30\n",
        "\n",
        "inputs = Input(shape=(X_train.shape[1:]))\n",
        "x = SimpleRNN(units=hidden_units)(inputs)\n",
        "x = Flatten()(x)\n",
        "outputs = Dense(units=len(languages), activation='softmax')(x)\n",
        "\n",
        "model = Model(inputs, outputs)\n",
        "model.summary()\n",
        "model.compile(optimizer=tf.keras.optimizers.Adam(lr=0.001), loss='categorical_crossentropy', metrics='accuracy')\n",
        "\n",
        "### END YOUR CODE"
      ]
    },
    {
      "cell_type": "code",
      "execution_count": 15,
      "metadata": {
        "colab": {
          "base_uri": "https://localhost:8080/",
          "height": 1000
        },
        "id": "jmpfDc833iW0",
        "outputId": "2c838e22-567a-4d62-d76e-3ed34378a8b7"
      },
      "outputs": [
        {
          "output_type": "stream",
          "name": "stdout",
          "text": [
            "Epoch 1/25\n",
            "71/71 [==============================] - 2s 11ms/step - loss: 1.1359 - accuracy: 0.6449 - val_loss: 1.1338 - val_accuracy: 0.6294\n",
            "Epoch 2/25\n",
            "71/71 [==============================] - 0s 6ms/step - loss: 1.0399 - accuracy: 0.6544 - val_loss: 1.0242 - val_accuracy: 0.6452\n",
            "Epoch 3/25\n",
            "71/71 [==============================] - 0s 6ms/step - loss: 0.9019 - accuracy: 0.6833 - val_loss: 0.9395 - val_accuracy: 0.6558\n",
            "Epoch 4/25\n",
            "71/71 [==============================] - 0s 6ms/step - loss: 0.8180 - accuracy: 0.7042 - val_loss: 0.8754 - val_accuracy: 0.6831\n",
            "Epoch 5/25\n",
            "71/71 [==============================] - 0s 5ms/step - loss: 0.7681 - accuracy: 0.7306 - val_loss: 0.8328 - val_accuracy: 0.6998\n",
            "Epoch 6/25\n",
            "71/71 [==============================] - 0s 6ms/step - loss: 0.7382 - accuracy: 0.7436 - val_loss: 0.7988 - val_accuracy: 0.7086\n",
            "Epoch 7/25\n",
            "71/71 [==============================] - 0s 6ms/step - loss: 0.7170 - accuracy: 0.7511 - val_loss: 0.8071 - val_accuracy: 0.7165\n",
            "Epoch 8/25\n",
            "71/71 [==============================] - 0s 6ms/step - loss: 0.6964 - accuracy: 0.7615 - val_loss: 0.7739 - val_accuracy: 0.7245\n",
            "Epoch 9/25\n",
            "71/71 [==============================] - 0s 6ms/step - loss: 0.6744 - accuracy: 0.7711 - val_loss: 0.7461 - val_accuracy: 0.7254\n",
            "Epoch 10/25\n",
            "71/71 [==============================] - 0s 6ms/step - loss: 0.6747 - accuracy: 0.7634 - val_loss: 0.7466 - val_accuracy: 0.7227\n",
            "Epoch 11/25\n",
            "71/71 [==============================] - 0s 6ms/step - loss: 0.6533 - accuracy: 0.7767 - val_loss: 0.7318 - val_accuracy: 0.7227\n",
            "Epoch 12/25\n",
            "71/71 [==============================] - 0s 6ms/step - loss: 0.6373 - accuracy: 0.7844 - val_loss: 0.7224 - val_accuracy: 0.7324\n",
            "Epoch 13/25\n",
            "71/71 [==============================] - 0s 6ms/step - loss: 0.6302 - accuracy: 0.7817 - val_loss: 0.7478 - val_accuracy: 0.7298\n",
            "Epoch 14/25\n",
            "71/71 [==============================] - 0s 6ms/step - loss: 0.6244 - accuracy: 0.7837 - val_loss: 0.7321 - val_accuracy: 0.7280\n",
            "Epoch 15/25\n",
            "71/71 [==============================] - 0s 6ms/step - loss: 0.6082 - accuracy: 0.7896 - val_loss: 0.7183 - val_accuracy: 0.7412\n",
            "Epoch 16/25\n",
            "71/71 [==============================] - 0s 6ms/step - loss: 0.5996 - accuracy: 0.7945 - val_loss: 0.7464 - val_accuracy: 0.7210\n",
            "Epoch 17/25\n",
            "71/71 [==============================] - 0s 6ms/step - loss: 0.5943 - accuracy: 0.7907 - val_loss: 0.7312 - val_accuracy: 0.7342\n",
            "Epoch 18/25\n",
            "71/71 [==============================] - 0s 6ms/step - loss: 0.5869 - accuracy: 0.7958 - val_loss: 0.7220 - val_accuracy: 0.7333\n",
            "Epoch 19/25\n",
            "71/71 [==============================] - 0s 6ms/step - loss: 0.5743 - accuracy: 0.7969 - val_loss: 0.7194 - val_accuracy: 0.7412\n",
            "Epoch 20/25\n",
            "71/71 [==============================] - 0s 5ms/step - loss: 0.5702 - accuracy: 0.8037 - val_loss: 0.7229 - val_accuracy: 0.7289\n",
            "Epoch 21/25\n",
            "71/71 [==============================] - 0s 6ms/step - loss: 0.5540 - accuracy: 0.8055 - val_loss: 0.7197 - val_accuracy: 0.7430\n",
            "Epoch 22/25\n",
            "71/71 [==============================] - 0s 6ms/step - loss: 0.5467 - accuracy: 0.8084 - val_loss: 0.7349 - val_accuracy: 0.7386\n",
            "Epoch 23/25\n",
            "71/71 [==============================] - 0s 6ms/step - loss: 0.5466 - accuracy: 0.8088 - val_loss: 0.7770 - val_accuracy: 0.7236\n",
            "Epoch 24/25\n",
            "71/71 [==============================] - 0s 6ms/step - loss: 0.5439 - accuracy: 0.8106 - val_loss: 0.7631 - val_accuracy: 0.7368\n",
            "Epoch 25/25\n",
            "71/71 [==============================] - 0s 6ms/step - loss: 0.5345 - accuracy: 0.8148 - val_loss: 0.7229 - val_accuracy: 0.7394\n",
            "[[ 17  22  30   5   0]\n",
            " [  5 667  19  24   0]\n",
            " [  9  36  94   2   3]\n",
            " [  1  84   2  62   0]\n",
            " [  2  38  11   3   0]]\n",
            "              precision    recall  f1-score   support\n",
            "\n",
            "           0       0.50      0.23      0.31        74\n",
            "           1       0.79      0.93      0.85       715\n",
            "           2       0.60      0.65      0.63       144\n",
            "           3       0.65      0.42      0.51       149\n",
            "           4       0.00      0.00      0.00        54\n",
            "\n",
            "    accuracy                           0.74      1136\n",
            "   macro avg       0.51      0.45      0.46      1136\n",
            "weighted avg       0.69      0.74      0.70      1136\n",
            "\n"
          ]
        },
        {
          "output_type": "display_data",
          "data": {
            "text/plain": [
              "<Figure size 432x288 with 1 Axes>"
            ],
            "image/png": "[encoded data removed]"
          },
          "metadata": {
            "needs_background": "light"
          }
        },
        {
          "output_type": "display_data",
          "data": {
            "text/plain": [
              "<Figure size 432x288 with 1 Axes>"
            ],
            "image/png": "[encoded data removed]"
          },
          "metadata": {
            "needs_background": "light"
          }
        }
      ],
      "source": [
        "### START YOUR CODE\n",
        "batch_size=64\n",
        "nepochs = 25\n",
        "\n",
        "history = model.fit(X_train, y_train, validation_data=(X_test, y_test), epochs=nepochs, batch_size=batch_size)\n",
        "display_model_stats(X_test, y_test, model, history)\n",
        "### END YOUR CODE"
      ]
    },
    {
      "cell_type": "markdown",
      "metadata": {
        "tags": [],
        "id": "rbML1kWV3iW0"
      },
      "source": [
        "#### Findings"
      ]
    },
    {
      "cell_type": "markdown",
      "metadata": {
        "id": "uWP8ToUS3iW0"
      },
      "source": [
        "- Model overfitts quite early\n",
        "- Majorty class is often wronly predicted"
      ]
    },
    {
      "cell_type": "markdown",
      "metadata": {
        "id": "NBQKEQOo3iW0"
      },
      "source": [
        "### Implement Model with several SimpleRNN Layers"
      ]
    },
    {
      "cell_type": "code",
      "execution_count": 16,
      "metadata": {
        "tags": [],
        "colab": {
          "base_uri": "https://localhost:8080/"
        },
        "id": "_Wy0xSCD3iW1",
        "outputId": "49fa47de-b9d0-45fc-e468-e754d86c74c9"
      },
      "outputs": [
        {
          "output_type": "stream",
          "name": "stderr",
          "text": [
            "/usr/local/lib/python3.7/dist-packages/keras/optimizer_v2/adam.py:105: UserWarning: The `lr` argument is deprecated, use `learning_rate` instead.\n",
            "  super(Adam, self).__init__(name, **kwargs)\n"
          ]
        }
      ],
      "source": [
        "### START YOUR CODE\n",
        "hidden_units = 30\n",
        "\n",
        "class RNNModel(Model):\n",
        "  def __init__(self):\n",
        "    super(RNNModel, self).__init__()\n",
        "    self.inputs = Input(X_train.shape[1:])\n",
        "    self.rnn1 = SimpleRNN(units=hidden_units, return_sequences=True)\n",
        "    self.rnn2 = SimpleRNN(units=hidden_units, return_sequences=True)\n",
        "    self.rnn2 = SimpleRNN(units=hidden_units)\n",
        "    self.flatten = Flatten()\n",
        "    self.dense = Dense(len(languages), activation='softmax')\n",
        "\n",
        "  def call(self, x):\n",
        "    x = self.rnn1(x)\n",
        "    x = self.rnn2(x)\n",
        "    x = self.flatten(x)\n",
        "    return self.dense(x)\n",
        "\n",
        "model = RNNModel()\n",
        "model.compile(optimizer=tf.keras.optimizers.Adam(lr=0.001), loss='categorical_crossentropy', metrics='accuracy')\n",
        "### END YOUR CODE"
      ]
    },
    {
      "cell_type": "code",
      "execution_count": 17,
      "metadata": {
        "colab": {
          "base_uri": "https://localhost:8080/",
          "height": 1000
        },
        "id": "1fliVcGo3iW1",
        "outputId": "4de21795-8d6b-4e78-baf1-a81aabee99d8"
      },
      "outputs": [
        {
          "output_type": "stream",
          "name": "stdout",
          "text": [
            "Epoch 1/25\n",
            "71/71 [==============================] - 4s 14ms/step - loss: 1.1193 - accuracy: 0.6229 - val_loss: 1.0638 - val_accuracy: 0.6496\n",
            "Epoch 2/25\n",
            "71/71 [==============================] - 1s 10ms/step - loss: 0.9482 - accuracy: 0.6819 - val_loss: 0.9355 - val_accuracy: 0.6778\n",
            "Epoch 3/25\n",
            "71/71 [==============================] - 1s 10ms/step - loss: 0.8212 - accuracy: 0.7152 - val_loss: 0.8636 - val_accuracy: 0.6989\n",
            "Epoch 4/25\n",
            "71/71 [==============================] - 1s 10ms/step - loss: 0.7482 - accuracy: 0.7401 - val_loss: 0.7864 - val_accuracy: 0.7157\n",
            "Epoch 5/25\n",
            "71/71 [==============================] - 1s 10ms/step - loss: 0.6978 - accuracy: 0.7507 - val_loss: 0.7263 - val_accuracy: 0.7342\n",
            "Epoch 6/25\n",
            "71/71 [==============================] - 1s 10ms/step - loss: 0.6665 - accuracy: 0.7648 - val_loss: 0.7250 - val_accuracy: 0.7298\n",
            "Epoch 7/25\n",
            "71/71 [==============================] - 1s 10ms/step - loss: 0.6426 - accuracy: 0.7689 - val_loss: 0.7064 - val_accuracy: 0.7386\n",
            "Epoch 8/25\n",
            "71/71 [==============================] - 1s 10ms/step - loss: 0.6200 - accuracy: 0.7800 - val_loss: 0.6851 - val_accuracy: 0.7474\n",
            "Epoch 9/25\n",
            "71/71 [==============================] - 1s 10ms/step - loss: 0.6089 - accuracy: 0.7857 - val_loss: 0.7089 - val_accuracy: 0.7465\n",
            "Epoch 10/25\n",
            "71/71 [==============================] - 1s 10ms/step - loss: 0.5804 - accuracy: 0.7967 - val_loss: 0.7209 - val_accuracy: 0.7491\n",
            "Epoch 11/25\n",
            "71/71 [==============================] - 1s 9ms/step - loss: 0.5802 - accuracy: 0.7965 - val_loss: 0.6812 - val_accuracy: 0.7474\n",
            "Epoch 12/25\n",
            "71/71 [==============================] - 1s 10ms/step - loss: 0.5642 - accuracy: 0.8086 - val_loss: 0.7011 - val_accuracy: 0.7421\n",
            "Epoch 13/25\n",
            "71/71 [==============================] - 1s 10ms/step - loss: 0.5521 - accuracy: 0.8106 - val_loss: 0.6778 - val_accuracy: 0.7544\n",
            "Epoch 14/25\n",
            "71/71 [==============================] - 1s 10ms/step - loss: 0.5373 - accuracy: 0.8106 - val_loss: 0.6767 - val_accuracy: 0.7465\n",
            "Epoch 15/25\n",
            "71/71 [==============================] - 1s 10ms/step - loss: 0.5269 - accuracy: 0.8183 - val_loss: 0.6809 - val_accuracy: 0.7518\n",
            "Epoch 16/25\n",
            "71/71 [==============================] - 1s 10ms/step - loss: 0.5129 - accuracy: 0.8231 - val_loss: 0.6768 - val_accuracy: 0.7562\n",
            "Epoch 17/25\n",
            "71/71 [==============================] - 1s 10ms/step - loss: 0.5093 - accuracy: 0.8284 - val_loss: 0.6706 - val_accuracy: 0.7650\n",
            "Epoch 18/25\n",
            "71/71 [==============================] - 1s 9ms/step - loss: 0.4889 - accuracy: 0.8300 - val_loss: 0.6756 - val_accuracy: 0.7482\n",
            "Epoch 19/25\n",
            "71/71 [==============================] - 1s 10ms/step - loss: 0.4840 - accuracy: 0.8306 - val_loss: 0.7054 - val_accuracy: 0.7526\n",
            "Epoch 20/25\n",
            "71/71 [==============================] - 1s 10ms/step - loss: 0.4757 - accuracy: 0.8330 - val_loss: 0.7059 - val_accuracy: 0.7526\n",
            "Epoch 21/25\n",
            "71/71 [==============================] - 1s 10ms/step - loss: 0.4662 - accuracy: 0.8379 - val_loss: 0.6977 - val_accuracy: 0.7474\n",
            "Epoch 22/25\n",
            "71/71 [==============================] - 1s 10ms/step - loss: 0.4532 - accuracy: 0.8460 - val_loss: 0.7188 - val_accuracy: 0.7403\n",
            "Epoch 23/25\n",
            "71/71 [==============================] - 1s 10ms/step - loss: 0.4534 - accuracy: 0.8392 - val_loss: 0.6969 - val_accuracy: 0.7447\n",
            "Epoch 24/25\n",
            "71/71 [==============================] - 1s 10ms/step - loss: 0.4306 - accuracy: 0.8498 - val_loss: 0.7047 - val_accuracy: 0.7518\n",
            "Epoch 25/25\n",
            "71/71 [==============================] - 1s 10ms/step - loss: 0.4190 - accuracy: 0.8553 - val_loss: 0.7443 - val_accuracy: 0.7359\n",
            "[[ 18  23  21  11   1]\n",
            " [  5 647  11  46   6]\n",
            " [ 19  23  91   3   8]\n",
            " [  1  70   1  76   1]\n",
            " [  2  39   3   6   4]]\n",
            "              precision    recall  f1-score   support\n",
            "\n",
            "           0       0.40      0.24      0.30        74\n",
            "           1       0.81      0.90      0.85       715\n",
            "           2       0.72      0.63      0.67       144\n",
            "           3       0.54      0.51      0.52       149\n",
            "           4       0.20      0.07      0.11        54\n",
            "\n",
            "    accuracy                           0.74      1136\n",
            "   macro avg       0.53      0.47      0.49      1136\n",
            "weighted avg       0.70      0.74      0.72      1136\n",
            "\n"
          ]
        },
        {
          "output_type": "display_data",
          "data": {
            "text/plain": [
              "<Figure size 432x288 with 1 Axes>"
            ],
            "image/png": "[encoded data removed]"
          },
          "metadata": {
            "needs_background": "light"
          }
        },
        {
          "output_type": "display_data",
          "data": {
            "text/plain": [
              "<Figure size 432x288 with 1 Axes>"
            ],
            "image/png": "[encoded data removed]"
          },
          "metadata": {
            "needs_background": "light"
          }
        }
      ],
      "source": [
        "### START YOUR CODE\n",
        "batch_size = 64\n",
        "nepochs = 25\n",
        "\n",
        "history = model.fit(\n",
        "    X_train,\n",
        "    y_train,\n",
        "    validation_data=(X_test, y_test),\n",
        "    epochs=nepochs,\n",
        "    batch_size=batch_size,\n",
        ")\n",
        "display_model_stats(X_test, y_test, model, history)\n",
        "### END YOUR CODE\n"
      ]
    },
    {
      "cell_type": "markdown",
      "metadata": {
        "id": "ylEVr-jl3iW2"
      },
      "source": [
        "#### Findings\n",
        "\n",
        "Validation accuracy does not really improve by adding more recurrent layers\n",
        "\n",
        "\n"
      ]
    },
    {
      "cell_type": "markdown",
      "metadata": {
        "id": "UyUCFH7-3iW2"
      },
      "source": [
        "### Class Imbalance Handling\n",
        "\n",
        "Choose a method to address the class imbalance seen in the given example.\n",
        "- minority resampling \n",
        "- class weights in the loss\n",
        "\n",
        "Implement it and incorporate it in the training.\n",
        "Evaluate the results and compare it with the results obtained with the unbalanced training.  "
      ]
    },
    {
      "cell_type": "markdown",
      "metadata": {
        "id": "E0MiZa2i3iW3"
      },
      "source": [
        "#### Class weight in loss"
      ]
    },
    {
      "cell_type": "code",
      "source": [
        "from sklearn.utils import class_weight # class weights for the loss\n",
        "class_weights = class_weight.compute_class_weight(class_weight='balanced',classes=np.unique(train.lang),y=train.lang)"
      ],
      "metadata": {
        "id": "A1TvsWzB9Af4"
      },
      "execution_count": 64,
      "outputs": []
    },
    {
      "cell_type": "code",
      "source": [
        "model = RNNModel()\n",
        "model.compile(optimizer=tf.keras.optimizers.Adam(lr=0.001), loss='categorical_crossentropy', metrics='accuracy')\n",
        "\n",
        "batch_size = 64\n",
        "nepochs = 50\n",
        "\n",
        "history = model.fit(\n",
        "    X_train,\n",
        "    y_train,\n",
        "    validation_data=(X_test, y_test),\n",
        "    epochs=nepochs,\n",
        "    batch_size=batch_size,\n",
        "    class_weight=dict(enumerate(class_weights))\n",
        ")\n",
        "display_model_stats(X_test, y_test, model, history)"
      ],
      "metadata": {
        "colab": {
          "base_uri": "https://localhost:8080/",
          "height": 1000
        },
        "id": "zcXKyyNs8WPj",
        "outputId": "d752b0f0-256f-47db-df19-bb0b31400ee5"
      },
      "execution_count": 66,
      "outputs": [
        {
          "output_type": "stream",
          "name": "stdout",
          "text": [
            "Epoch 1/50\n"
          ]
        },
        {
          "output_type": "stream",
          "name": "stderr",
          "text": [
            "/usr/local/lib/python3.7/dist-packages/keras/optimizer_v2/adam.py:105: UserWarning: The `lr` argument is deprecated, use `learning_rate` instead.\n",
            "  super(Adam, self).__init__(name, **kwargs)\n"
          ]
        },
        {
          "output_type": "stream",
          "name": "stdout",
          "text": [
            "71/71 [==============================] - 3s 14ms/step - loss: 2.5226 - accuracy: 0.6308 - val_loss: 1.2991 - val_accuracy: 0.6294\n",
            "Epoch 2/50\n",
            "71/71 [==============================] - 1s 16ms/step - loss: 2.2182 - accuracy: 0.6500 - val_loss: 1.3408 - val_accuracy: 0.6303\n",
            "Epoch 3/50\n",
            "71/71 [==============================] - 1s 18ms/step - loss: 2.0938 - accuracy: 0.6548 - val_loss: 1.1936 - val_accuracy: 0.6364\n",
            "Epoch 4/50\n",
            "71/71 [==============================] - 1s 15ms/step - loss: 1.8999 - accuracy: 0.6795 - val_loss: 0.9727 - val_accuracy: 0.6761\n",
            "Epoch 5/50\n",
            "71/71 [==============================] - 1s 10ms/step - loss: 1.8050 - accuracy: 0.7020 - val_loss: 0.9551 - val_accuracy: 0.6901\n",
            "Epoch 6/50\n",
            "71/71 [==============================] - 1s 10ms/step - loss: 1.7088 - accuracy: 0.7170 - val_loss: 0.9582 - val_accuracy: 0.6901\n",
            "Epoch 7/50\n",
            "71/71 [==============================] - 1s 10ms/step - loss: 1.6228 - accuracy: 0.7258 - val_loss: 0.9569 - val_accuracy: 0.6857\n",
            "Epoch 8/50\n",
            "71/71 [==============================] - 1s 11ms/step - loss: 1.5509 - accuracy: 0.7416 - val_loss: 0.8955 - val_accuracy: 0.7139\n",
            "Epoch 9/50\n",
            "71/71 [==============================] - 1s 10ms/step - loss: 1.4750 - accuracy: 0.7555 - val_loss: 0.8740 - val_accuracy: 0.7130\n",
            "Epoch 10/50\n",
            "71/71 [==============================] - 1s 10ms/step - loss: 1.4268 - accuracy: 0.7632 - val_loss: 0.9599 - val_accuracy: 0.6937\n",
            "Epoch 11/50\n",
            "71/71 [==============================] - 1s 10ms/step - loss: 1.3617 - accuracy: 0.7707 - val_loss: 0.9360 - val_accuracy: 0.7033\n",
            "Epoch 12/50\n",
            "71/71 [==============================] - 1s 10ms/step - loss: 1.3349 - accuracy: 0.7756 - val_loss: 0.8372 - val_accuracy: 0.7280\n",
            "Epoch 13/50\n",
            "71/71 [==============================] - 1s 10ms/step - loss: 1.3119 - accuracy: 0.7738 - val_loss: 0.8447 - val_accuracy: 0.7280\n",
            "Epoch 14/50\n",
            "71/71 [==============================] - 1s 10ms/step - loss: 1.2436 - accuracy: 0.7881 - val_loss: 0.8459 - val_accuracy: 0.7298\n",
            "Epoch 15/50\n",
            "71/71 [==============================] - 1s 10ms/step - loss: 1.2252 - accuracy: 0.7899 - val_loss: 0.9065 - val_accuracy: 0.7236\n",
            "Epoch 16/50\n",
            "71/71 [==============================] - 1s 10ms/step - loss: 1.2051 - accuracy: 0.7914 - val_loss: 0.8090 - val_accuracy: 0.7350\n",
            "Epoch 17/50\n",
            "71/71 [==============================] - 1s 10ms/step - loss: 1.1477 - accuracy: 0.8011 - val_loss: 0.8169 - val_accuracy: 0.7368\n",
            "Epoch 18/50\n",
            "71/71 [==============================] - 1s 10ms/step - loss: 1.1321 - accuracy: 0.8051 - val_loss: 0.8701 - val_accuracy: 0.7386\n",
            "Epoch 19/50\n",
            "71/71 [==============================] - 1s 10ms/step - loss: 1.0953 - accuracy: 0.8086 - val_loss: 0.8727 - val_accuracy: 0.7324\n",
            "Epoch 20/50\n",
            "71/71 [==============================] - 1s 10ms/step - loss: 1.0682 - accuracy: 0.8117 - val_loss: 0.9683 - val_accuracy: 0.7236\n",
            "Epoch 21/50\n",
            "71/71 [==============================] - 1s 10ms/step - loss: 1.0347 - accuracy: 0.8170 - val_loss: 0.8515 - val_accuracy: 0.7324\n",
            "Epoch 22/50\n",
            "71/71 [==============================] - 1s 10ms/step - loss: 0.9917 - accuracy: 0.8216 - val_loss: 0.8514 - val_accuracy: 0.7254\n",
            "Epoch 23/50\n",
            "71/71 [==============================] - 1s 10ms/step - loss: 0.9870 - accuracy: 0.8231 - val_loss: 0.9279 - val_accuracy: 0.7342\n",
            "Epoch 24/50\n",
            "71/71 [==============================] - 1s 11ms/step - loss: 0.9595 - accuracy: 0.8207 - val_loss: 0.9086 - val_accuracy: 0.7289\n",
            "Epoch 25/50\n",
            "71/71 [==============================] - 1s 10ms/step - loss: 0.9471 - accuracy: 0.8264 - val_loss: 0.9097 - val_accuracy: 0.7333\n",
            "Epoch 26/50\n",
            "71/71 [==============================] - 1s 10ms/step - loss: 0.9101 - accuracy: 0.8328 - val_loss: 0.9299 - val_accuracy: 0.7148\n",
            "Epoch 27/50\n",
            "71/71 [==============================] - 1s 10ms/step - loss: 0.8919 - accuracy: 0.8344 - val_loss: 0.8855 - val_accuracy: 0.7306\n",
            "Epoch 28/50\n",
            "71/71 [==============================] - 1s 10ms/step - loss: 0.8807 - accuracy: 0.8385 - val_loss: 0.9174 - val_accuracy: 0.7254\n",
            "Epoch 29/50\n",
            "71/71 [==============================] - 1s 10ms/step - loss: 0.8326 - accuracy: 0.8441 - val_loss: 0.9122 - val_accuracy: 0.7157\n",
            "Epoch 30/50\n",
            "71/71 [==============================] - 1s 10ms/step - loss: 0.8293 - accuracy: 0.8469 - val_loss: 0.9544 - val_accuracy: 0.7227\n",
            "Epoch 31/50\n",
            "71/71 [==============================] - 1s 11ms/step - loss: 0.8087 - accuracy: 0.8482 - val_loss: 0.9105 - val_accuracy: 0.7218\n",
            "Epoch 32/50\n",
            "71/71 [==============================] - 1s 19ms/step - loss: 0.7856 - accuracy: 0.8509 - val_loss: 0.9356 - val_accuracy: 0.7086\n",
            "Epoch 33/50\n",
            "71/71 [==============================] - 1s 10ms/step - loss: 0.7866 - accuracy: 0.8511 - val_loss: 0.9607 - val_accuracy: 0.7245\n",
            "Epoch 34/50\n",
            "71/71 [==============================] - 1s 10ms/step - loss: 0.7561 - accuracy: 0.8548 - val_loss: 0.9019 - val_accuracy: 0.7218\n",
            "Epoch 35/50\n",
            "71/71 [==============================] - 1s 11ms/step - loss: 0.7392 - accuracy: 0.8533 - val_loss: 0.9727 - val_accuracy: 0.7086\n",
            "Epoch 36/50\n",
            "71/71 [==============================] - 1s 10ms/step - loss: 0.7449 - accuracy: 0.8557 - val_loss: 0.9704 - val_accuracy: 0.7236\n",
            "Epoch 37/50\n",
            "71/71 [==============================] - 1s 11ms/step - loss: 0.7002 - accuracy: 0.8606 - val_loss: 0.9260 - val_accuracy: 0.7148\n",
            "Epoch 38/50\n",
            "71/71 [==============================] - 1s 10ms/step - loss: 0.6990 - accuracy: 0.8628 - val_loss: 1.0112 - val_accuracy: 0.7227\n",
            "Epoch 39/50\n",
            "71/71 [==============================] - 1s 11ms/step - loss: 0.6645 - accuracy: 0.8650 - val_loss: 0.9294 - val_accuracy: 0.7324\n",
            "Epoch 40/50\n",
            "71/71 [==============================] - 1s 10ms/step - loss: 0.6331 - accuracy: 0.8709 - val_loss: 0.9596 - val_accuracy: 0.7218\n",
            "Epoch 41/50\n",
            "71/71 [==============================] - 1s 11ms/step - loss: 0.6229 - accuracy: 0.8744 - val_loss: 0.9819 - val_accuracy: 0.7218\n",
            "Epoch 42/50\n",
            "71/71 [==============================] - 1s 10ms/step - loss: 0.6340 - accuracy: 0.8718 - val_loss: 1.1084 - val_accuracy: 0.7016\n",
            "Epoch 43/50\n",
            "71/71 [==============================] - 1s 11ms/step - loss: 0.6361 - accuracy: 0.8696 - val_loss: 1.0121 - val_accuracy: 0.7192\n",
            "Epoch 44/50\n",
            "71/71 [==============================] - 1s 10ms/step - loss: 0.6203 - accuracy: 0.8727 - val_loss: 0.9893 - val_accuracy: 0.7201\n",
            "Epoch 45/50\n",
            "71/71 [==============================] - 1s 10ms/step - loss: 0.5700 - accuracy: 0.8791 - val_loss: 1.0282 - val_accuracy: 0.7174\n",
            "Epoch 46/50\n",
            "71/71 [==============================] - 1s 10ms/step - loss: 0.5394 - accuracy: 0.8868 - val_loss: 1.0840 - val_accuracy: 0.7262\n",
            "Epoch 47/50\n",
            "71/71 [==============================] - 1s 10ms/step - loss: 0.5423 - accuracy: 0.8863 - val_loss: 1.0501 - val_accuracy: 0.7201\n",
            "Epoch 48/50\n",
            "71/71 [==============================] - 1s 10ms/step - loss: 0.5264 - accuracy: 0.8855 - val_loss: 1.0168 - val_accuracy: 0.7095\n",
            "Epoch 49/50\n",
            "71/71 [==============================] - 1s 10ms/step - loss: 0.5658 - accuracy: 0.8817 - val_loss: 1.0177 - val_accuracy: 0.7025\n",
            "Epoch 50/50\n",
            "71/71 [==============================] - 1s 10ms/step - loss: 0.5311 - accuracy: 0.8885 - val_loss: 1.1568 - val_accuracy: 0.7298\n",
            "[[  3  30  35   5   1]\n",
            " [  0 672  15  19   9]\n",
            " [  1  38 103   0   2]\n",
            " [  0  97   0  46   6]\n",
            " [  0  37   9   3   5]]\n",
            "              precision    recall  f1-score   support\n",
            "\n",
            "           0       0.75      0.04      0.08        74\n",
            "           1       0.77      0.94      0.85       715\n",
            "           2       0.64      0.72      0.67       144\n",
            "           3       0.63      0.31      0.41       149\n",
            "           4       0.22      0.09      0.13        54\n",
            "\n",
            "    accuracy                           0.73      1136\n",
            "   macro avg       0.60      0.42      0.43      1136\n",
            "weighted avg       0.71      0.73      0.68      1136\n",
            "\n"
          ]
        },
        {
          "output_type": "display_data",
          "data": {
            "text/plain": [
              "<Figure size 432x288 with 1 Axes>"
            ],
            "image/png": "[encoded data removed]"
          },
          "metadata": {
            "needs_background": "light"
          }
        },
        {
          "output_type": "display_data",
          "data": {
            "text/plain": [
              "<Figure size 432x288 with 1 Axes>"
            ],
            "image/png": "[encoded data removed]"
          },
          "metadata": {
            "needs_background": "light"
          }
        }
      ]
    },
    {
      "cell_type": "markdown",
      "metadata": {
        "id": "NfdAKZbo3iW2"
      },
      "source": [
        "#### Oversampling"
      ]
    },
    {
      "cell_type": "code",
      "execution_count": 67,
      "metadata": {
        "colab": {
          "base_uri": "https://localhost:8080/"
        },
        "id": "zsURrNw13iW3",
        "outputId": "732f2729-853b-4dd7-9ad1-c89970f68918"
      },
      "outputs": [
        {
          "output_type": "stream",
          "name": "stdout",
          "text": [
            "Requirement already satisfied: imbalanced-learn in /usr/local/lib/python3.7/dist-packages (0.8.1)\n",
            "Requirement already satisfied: numpy>=1.13.3 in /usr/local/lib/python3.7/dist-packages (from imbalanced-learn) (1.21.6)\n",
            "Requirement already satisfied: scipy>=0.19.1 in /usr/local/lib/python3.7/dist-packages (from imbalanced-learn) (1.4.1)\n",
            "Requirement already satisfied: joblib>=0.11 in /usr/local/lib/python3.7/dist-packages (from imbalanced-learn) (1.1.0)\n",
            "Requirement already satisfied: scikit-learn>=0.24 in /usr/local/lib/python3.7/dist-packages (from imbalanced-learn) (1.0.2)\n",
            "Requirement already satisfied: threadpoolctl>=2.0.0 in /usr/local/lib/python3.7/dist-packages (from scikit-learn>=0.24->imbalanced-learn) (3.1.0)\n"
          ]
        }
      ],
      "source": [
        "!pip install imbalanced-learn\n",
        "from imblearn.over_sampling import SMOTE\n",
        "from sklearn.preprocessing import OneHotEncoder\n",
        "\n",
        "test_split = 0.2\n",
        "train, test = train_test_split(names, test_size=test_split, shuffle=True, random_state=42)\n",
        "\n",
        "enc = OneHotEncoder()\n",
        "train_encoded = enc.fit_transform(train).toarray()\n",
        "\n",
        "\n",
        "names_y = np.array([lang_representation(language, language_to_index) for language in train.lang])\n",
        "names_y_single = np.argmax(names_y, axis=-1) \n",
        "sm = SMOTE(random_state=42)\n",
        "X_res, y_res = sm.fit_resample(train_encoded, names_y_single)\n",
        "\n",
        "namesres=pd.DataFrame(enc.inverse_transform(X_res),columns=['name','lang'])\n",
        "namesres.groupby('lang')['name'].count()/len(namesres)\n",
        "\n",
        "X_train = np.array([name_representation(name, maxlen) for name in namesres.name])\n",
        "X_test = np.array([name_representation(name, maxlen) for name in test.name])\n",
        "\n",
        "y_train = np.array([lang_representation(language, language_to_index) for language in namesres.lang])\n",
        "y_test = np.array([lang_representation(language, language_to_index) for language in test.lang])\n",
        "\n",
        "\n"
      ]
    },
    {
      "cell_type": "code",
      "source": [
        "model = RNNModel()\n",
        "model.compile(optimizer=tf.keras.optimizers.Adam(lr=0.001), loss='categorical_crossentropy', metrics='accuracy')\n",
        "\n",
        "batch_size = 64\n",
        "nepochs = 50\n",
        "\n",
        "history = model.fit(\n",
        "    X_train,\n",
        "    y_train,\n",
        "    validation_data=(X_test, y_test),\n",
        "    epochs=nepochs,\n",
        "    batch_size=batch_size,\n",
        ")\n",
        "display_model_stats(X_test, y_test, model, history)"
      ],
      "metadata": {
        "colab": {
          "base_uri": "https://localhost:8080/",
          "height": 1000
        },
        "id": "97ZkCqMu8UzC",
        "outputId": "d682a798-ce73-4d18-f55b-03d95159fd2d"
      },
      "execution_count": 69,
      "outputs": [
        {
          "output_type": "stream",
          "name": "stderr",
          "text": [
            "/usr/local/lib/python3.7/dist-packages/keras/optimizer_v2/adam.py:105: UserWarning: The `lr` argument is deprecated, use `learning_rate` instead.\n",
            "  super(Adam, self).__init__(name, **kwargs)\n"
          ]
        },
        {
          "output_type": "stream",
          "name": "stdout",
          "text": [
            "Epoch 1/50\n",
            "231/231 [==============================] - 15s 30ms/step - loss: 1.1096 - accuracy: 0.5659 - val_loss: 1.2364 - val_accuracy: 0.4472\n",
            "Epoch 2/50\n",
            "231/231 [==============================] - 5s 23ms/step - loss: 0.7601 - accuracy: 0.7068 - val_loss: 1.0898 - val_accuracy: 0.5458\n",
            "Epoch 3/50\n",
            "231/231 [==============================] - 6s 25ms/step - loss: 0.6065 - accuracy: 0.7693 - val_loss: 0.9884 - val_accuracy: 0.6118\n",
            "Epoch 4/50\n",
            "231/231 [==============================] - 6s 24ms/step - loss: 0.5152 - accuracy: 0.8094 - val_loss: 0.9787 - val_accuracy: 0.6118\n",
            "Epoch 5/50\n",
            "231/231 [==============================] - 5s 22ms/step - loss: 0.4514 - accuracy: 0.8288 - val_loss: 0.9206 - val_accuracy: 0.6452\n",
            "Epoch 6/50\n",
            "231/231 [==============================] - 4s 19ms/step - loss: 0.3939 - accuracy: 0.8562 - val_loss: 0.9581 - val_accuracy: 0.6312\n",
            "Epoch 7/50\n",
            "231/231 [==============================] - 4s 19ms/step - loss: 0.3460 - accuracy: 0.8767 - val_loss: 1.0244 - val_accuracy: 0.6004\n",
            "Epoch 8/50\n",
            "231/231 [==============================] - 3s 11ms/step - loss: 0.3171 - accuracy: 0.8856 - val_loss: 0.9385 - val_accuracy: 0.6620\n",
            "Epoch 9/50\n",
            "231/231 [==============================] - 2s 9ms/step - loss: 0.2911 - accuracy: 0.8979 - val_loss: 0.9521 - val_accuracy: 0.6875\n",
            "Epoch 10/50\n",
            "231/231 [==============================] - 2s 9ms/step - loss: 0.2643 - accuracy: 0.9095 - val_loss: 0.9669 - val_accuracy: 0.6576\n",
            "Epoch 11/50\n",
            "231/231 [==============================] - 2s 9ms/step - loss: 0.2519 - accuracy: 0.9115 - val_loss: 1.0334 - val_accuracy: 0.6470\n",
            "Epoch 12/50\n",
            "231/231 [==============================] - 2s 9ms/step - loss: 0.2325 - accuracy: 0.9175 - val_loss: 1.0055 - val_accuracy: 0.6743\n",
            "Epoch 13/50\n",
            "231/231 [==============================] - 2s 9ms/step - loss: 0.2192 - accuracy: 0.9242 - val_loss: 1.1332 - val_accuracy: 0.6532\n",
            "Epoch 14/50\n",
            "231/231 [==============================] - 2s 9ms/step - loss: 0.2130 - accuracy: 0.9254 - val_loss: 1.0482 - val_accuracy: 0.6637\n",
            "Epoch 15/50\n",
            "231/231 [==============================] - 2s 9ms/step - loss: 0.1963 - accuracy: 0.9326 - val_loss: 1.1682 - val_accuracy: 0.6523\n",
            "Epoch 16/50\n",
            "231/231 [==============================] - 2s 9ms/step - loss: 0.1889 - accuracy: 0.9349 - val_loss: 1.1552 - val_accuracy: 0.6452\n",
            "Epoch 17/50\n",
            "231/231 [==============================] - 2s 9ms/step - loss: 0.1858 - accuracy: 0.9359 - val_loss: 1.1894 - val_accuracy: 0.6611\n",
            "Epoch 18/50\n",
            "231/231 [==============================] - 2s 9ms/step - loss: 0.1777 - accuracy: 0.9393 - val_loss: 1.1710 - val_accuracy: 0.6602\n",
            "Epoch 19/50\n",
            "231/231 [==============================] - 2s 9ms/step - loss: 0.1649 - accuracy: 0.9468 - val_loss: 1.1951 - val_accuracy: 0.6540\n",
            "Epoch 20/50\n",
            "231/231 [==============================] - 3s 12ms/step - loss: 0.1631 - accuracy: 0.9447 - val_loss: 1.2067 - val_accuracy: 0.6646\n",
            "Epoch 21/50\n",
            "231/231 [==============================] - 4s 17ms/step - loss: 0.1628 - accuracy: 0.9462 - val_loss: 1.2506 - val_accuracy: 0.6514\n",
            "Epoch 22/50\n",
            "231/231 [==============================] - 2s 9ms/step - loss: 0.1455 - accuracy: 0.9511 - val_loss: 1.2501 - val_accuracy: 0.6690\n",
            "Epoch 23/50\n",
            "231/231 [==============================] - 2s 9ms/step - loss: 0.1476 - accuracy: 0.9493 - val_loss: 1.2777 - val_accuracy: 0.6523\n",
            "Epoch 24/50\n",
            "231/231 [==============================] - 2s 9ms/step - loss: 0.1447 - accuracy: 0.9528 - val_loss: 1.2908 - val_accuracy: 0.6646\n",
            "Epoch 25/50\n",
            "231/231 [==============================] - 2s 9ms/step - loss: 0.1345 - accuracy: 0.9559 - val_loss: 1.3021 - val_accuracy: 0.6743\n",
            "Epoch 26/50\n",
            "231/231 [==============================] - 2s 9ms/step - loss: 0.1346 - accuracy: 0.9535 - val_loss: 1.3360 - val_accuracy: 0.6673\n",
            "Epoch 27/50\n",
            "231/231 [==============================] - 2s 9ms/step - loss: 0.1337 - accuracy: 0.9550 - val_loss: 1.2812 - val_accuracy: 0.6699\n",
            "Epoch 28/50\n",
            "231/231 [==============================] - 2s 9ms/step - loss: 0.1461 - accuracy: 0.9512 - val_loss: 1.3387 - val_accuracy: 0.6549\n",
            "Epoch 29/50\n",
            "231/231 [==============================] - 2s 9ms/step - loss: 0.1313 - accuracy: 0.9571 - val_loss: 1.3041 - val_accuracy: 0.6840\n",
            "Epoch 30/50\n",
            "231/231 [==============================] - 2s 9ms/step - loss: 0.1243 - accuracy: 0.9598 - val_loss: 1.2900 - val_accuracy: 0.6752\n",
            "Epoch 31/50\n",
            "231/231 [==============================] - 2s 9ms/step - loss: 0.1269 - accuracy: 0.9592 - val_loss: 1.3583 - val_accuracy: 0.6611\n",
            "Epoch 32/50\n",
            "231/231 [==============================] - 2s 9ms/step - loss: 0.1263 - accuracy: 0.9573 - val_loss: 1.3605 - val_accuracy: 0.6699\n",
            "Epoch 33/50\n",
            "231/231 [==============================] - 2s 9ms/step - loss: 0.1251 - accuracy: 0.9556 - val_loss: 1.3460 - val_accuracy: 0.6972\n",
            "Epoch 34/50\n",
            "231/231 [==============================] - 2s 9ms/step - loss: 0.1197 - accuracy: 0.9615 - val_loss: 1.3539 - val_accuracy: 0.7033\n",
            "Epoch 35/50\n",
            "231/231 [==============================] - 2s 9ms/step - loss: 0.1164 - accuracy: 0.9610 - val_loss: 1.4235 - val_accuracy: 0.6629\n",
            "Epoch 36/50\n",
            "231/231 [==============================] - 2s 9ms/step - loss: 0.1183 - accuracy: 0.9627 - val_loss: 1.4309 - val_accuracy: 0.6822\n",
            "Epoch 37/50\n",
            "231/231 [==============================] - 2s 9ms/step - loss: 0.1117 - accuracy: 0.9647 - val_loss: 1.4880 - val_accuracy: 0.6752\n",
            "Epoch 38/50\n",
            "231/231 [==============================] - 2s 9ms/step - loss: 0.1158 - accuracy: 0.9615 - val_loss: 1.4115 - val_accuracy: 0.6884\n",
            "Epoch 39/50\n",
            "231/231 [==============================] - 2s 9ms/step - loss: 0.1019 - accuracy: 0.9692 - val_loss: 1.4827 - val_accuracy: 0.6699\n",
            "Epoch 40/50\n",
            "231/231 [==============================] - 2s 9ms/step - loss: 0.1105 - accuracy: 0.9646 - val_loss: 1.4922 - val_accuracy: 0.6690\n",
            "Epoch 41/50\n",
            "231/231 [==============================] - 2s 9ms/step - loss: 0.1115 - accuracy: 0.9629 - val_loss: 1.4840 - val_accuracy: 0.6752\n",
            "Epoch 42/50\n",
            "231/231 [==============================] - 2s 9ms/step - loss: 0.1009 - accuracy: 0.9675 - val_loss: 1.4838 - val_accuracy: 0.6849\n",
            "Epoch 43/50\n",
            "231/231 [==============================] - 2s 9ms/step - loss: 0.1035 - accuracy: 0.9671 - val_loss: 1.4992 - val_accuracy: 0.6620\n",
            "Epoch 44/50\n",
            "231/231 [==============================] - 2s 9ms/step - loss: 0.1240 - accuracy: 0.9600 - val_loss: 1.5515 - val_accuracy: 0.6849\n",
            "Epoch 45/50\n",
            "231/231 [==============================] - 3s 12ms/step - loss: 0.1115 - accuracy: 0.9635 - val_loss: 1.5811 - val_accuracy: 0.6725\n",
            "Epoch 46/50\n",
            "231/231 [==============================] - 2s 9ms/step - loss: 0.1117 - accuracy: 0.9630 - val_loss: 1.5090 - val_accuracy: 0.6866\n",
            "Epoch 47/50\n",
            "231/231 [==============================] - 2s 9ms/step - loss: 0.1032 - accuracy: 0.9667 - val_loss: 1.5762 - val_accuracy: 0.6523\n",
            "Epoch 48/50\n",
            "231/231 [==============================] - 3s 11ms/step - loss: 0.1022 - accuracy: 0.9646 - val_loss: 1.5790 - val_accuracy: 0.6664\n",
            "Epoch 49/50\n",
            "231/231 [==============================] - 2s 9ms/step - loss: 0.1005 - accuracy: 0.9678 - val_loss: 1.5640 - val_accuracy: 0.6769\n",
            "Epoch 50/50\n",
            "231/231 [==============================] - 2s 9ms/step - loss: 0.0997 - accuracy: 0.9684 - val_loss: 1.6003 - val_accuracy: 0.6813\n",
            "[[ 19  23  21   6   5]\n",
            " [ 12 592   8  67  36]\n",
            " [ 20  34  83   0   7]\n",
            " [  2  74   0  67   6]\n",
            " [  3  29   4   5  13]]\n",
            "              precision    recall  f1-score   support\n",
            "\n",
            "           0       0.34      0.26      0.29        74\n",
            "           1       0.79      0.83      0.81       715\n",
            "           2       0.72      0.58      0.64       144\n",
            "           3       0.46      0.45      0.46       149\n",
            "           4       0.19      0.24      0.21        54\n",
            "\n",
            "    accuracy                           0.68      1136\n",
            "   macro avg       0.50      0.47      0.48      1136\n",
            "weighted avg       0.68      0.68      0.68      1136\n",
            "\n"
          ]
        },
        {
          "output_type": "display_data",
          "data": {
            "text/plain": [
              "<Figure size 432x288 with 1 Axes>"
            ],
            "image/png": "[encoded data removed]"
          },
          "metadata": {
            "needs_background": "light"
          }
        },
        {
          "output_type": "display_data",
          "data": {
            "text/plain": [
              "<Figure size 432x288 with 1 Axes>"
            ],
            "image/png": "[encoded data removed]"
          },
          "metadata": {
            "needs_background": "light"
          }
        }
      ]
    },
    {
      "cell_type": "markdown",
      "source": [
        "f) Handling of imbalanced data in is important, because if the model is trained on to many samples of just one specific class the changes applied to the weights have to much bias towards the majority classes. Thus, a bias is introduced, that hinders the model from generalizing properly."
      ],
      "metadata": {
        "id": "toa20aIP-bpF"
      }
    }
  ],
  "metadata": {
    "kernelspec": {
      "display_name": "Python 3 (ipykernel)",
      "language": "python",
      "name": "python3"
    },
    "language_info": {
      "codemirror_mode": {
        "name": "ipython",
        "version": 3
      },
      "file_extension": ".py",
      "mimetype": "text/x-python",
      "name": "python",
      "nbconvert_exporter": "python",
      "pygments_lexer": "ipython3",
      "version": "3.8.10"
    },
    "colab": {
      "name": "name_classification_group-4.ipynb",
      "provenance": [],
      "collapsed_sections": []
    }
  },
  "nbformat": 4,
  "nbformat_minor": 0
}