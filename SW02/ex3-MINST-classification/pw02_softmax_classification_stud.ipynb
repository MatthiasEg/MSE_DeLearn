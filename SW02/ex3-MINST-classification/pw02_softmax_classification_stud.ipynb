{
 "cells": [
  {
   "cell_type": "code",
   "execution_count": 2,
   "id": "07ec37d7-f7cb-4646-a2dd-9dab66239a30",
   "metadata": {},
   "outputs": [],
   "source": [
    "from datetime import datetime\n",
    "import torch\n",
    "from torch.utils.data import DataLoader\n",
    "from torchvision import datasets\n",
    "from torchvision.transforms import ToTensor\n",
    "from torchsummary import summary\n",
    "import matplotlib.pyplot as plt"
   ]
  },
  {
   "cell_type": "markdown",
   "id": "115e944d-1923-476f-bc7f-777a584fa294",
   "metadata": {
    "tags": []
   },
   "source": [
    "### Loading the Data\n",
    "\n",
    "Click through the cells below to load the MNIST dataset and learn how to access its samples."
   ]
  },
  {
   "cell_type": "markdown",
   "id": "e2d8a986-1cb2-483b-9bd8-0f71d69fa9e8",
   "metadata": {},
   "source": [
    "#### Dataset"
   ]
  },
  {
   "cell_type": "code",
   "execution_count": 3,
   "id": "042ff291-ba77-4deb-83b5-ca4a4f84c6b7",
   "metadata": {},
   "outputs": [],
   "source": [
    "training_data = datasets.MNIST(\n",
    "    root=\"data\",\n",
    "    train=True,\n",
    "    download=True,\n",
    "    transform=ToTensor()\n",
    ")\n",
    "test_data = datasets.MNIST(\n",
    "    root=\"data\",\n",
    "    train=False,\n",
    "    download=True,\n",
    "    transform=ToTensor()\n",
    ")"
   ]
  },
  {
   "cell_type": "code",
   "execution_count": 4,
   "id": "4317cf1c-f538-4ab9-a25d-bf3eaaecc82e",
   "metadata": {},
   "outputs": [
    {
     "name": "stdout",
     "output_type": "stream",
     "text": [
      "Dataset MNIST\n",
      "    Number of datapoints: 60000\n",
      "    Root location: data\n",
      "    Split: Train\n",
      "    StandardTransform\n",
      "Transform: ToTensor()\n"
     ]
    }
   ],
   "source": [
    "print(training_data)"
   ]
  },
  {
   "cell_type": "code",
   "execution_count": 5,
   "id": "bead1c06-3cf0-4b28-bfa5-5fe83fcb0c09",
   "metadata": {},
   "outputs": [
    {
     "name": "stdout",
     "output_type": "stream",
     "text": [
      "60000\n",
      "<class 'torch.Tensor'> torch.Size([1, 28, 28]) torch.float32\n",
      "<class 'int'> 2\n"
     ]
    }
   ],
   "source": [
    "print(len(training_data))\n",
    "x, y = training_data[5]\n",
    "print(type(x), x.shape, x.dtype)\n",
    "print(type(y), y)"
   ]
  },
  {
   "cell_type": "markdown",
   "id": "c4c0c1cf-ee9d-4f39-80f9-dc87419ca16d",
   "metadata": {},
   "source": [
    "#### Depict samples"
   ]
  },
  {
   "cell_type": "code",
   "execution_count": 6,
   "id": "a9938792-243b-43eb-a0e9-01ee61e45f5d",
   "metadata": {},
   "outputs": [
    {
     "data": {
      "image/png": "[encoded data removed]",
      "text/plain": [
       "<Figure size 576x576 with 9 Axes>"
      ]
     },
     "metadata": {
      "needs_background": "light"
     },
     "output_type": "display_data"
    }
   ],
   "source": [
    "figure = plt.figure(figsize=(8, 8))\n",
    "cols, rows = 3, 3\n",
    "for i in range(1, cols * rows + 1):\n",
    "    sample_idx = torch.randint(len(training_data), size=(1,)).item()\n",
    "    img, label = training_data[sample_idx]\n",
    "    figure.add_subplot(rows, cols, i)\n",
    "    plt.title(\"Label %i (sample %i)\"%(label,sample_idx))\n",
    "    plt.axis(\"off\")\n",
    "    plt.imshow(img.squeeze(), cmap=\"gray\")\n",
    "plt.show()"
   ]
  },
  {
   "cell_type": "markdown",
   "id": "876863a4-933c-4994-97c7-66965fdc6d5b",
   "metadata": {},
   "source": [
    "#### Data Loader (see lecture)"
   ]
  },
  {
   "cell_type": "code",
   "execution_count": 7,
   "id": "b76a6393-4f06-4775-b9a3-cf0f30140617",
   "metadata": {},
   "outputs": [],
   "source": [
    "train_dataloader = DataLoader(training_data, batch_size=64, shuffle=True)"
   ]
  },
  {
   "cell_type": "code",
   "execution_count": 8,
   "id": "31b5829a-0c1f-4f26-9e78-d2205a1611ca",
   "metadata": {},
   "outputs": [
    {
     "name": "stdout",
     "output_type": "stream",
     "text": [
      "Feature batch shape: torch.Size([64, 1, 28, 28])\n",
      "Labels batch shape: torch.Size([64])\n"
     ]
    }
   ],
   "source": [
    "data_train, labels_train = next(iter(train_dataloader))\n",
    "print(f\"Feature batch shape: {data_train.shape}\")\n",
    "print(f\"Labels batch shape: {labels_train.shape}\")"
   ]
  },
  {
   "cell_type": "code",
   "execution_count": 9,
   "id": "c55ec26d-ba62-4b79-b4e3-0fb86a6cb65f",
   "metadata": {},
   "outputs": [
    {
     "data": {
      "image/png": "[encoded data removed]",
      "text/plain": [
       "<Figure size 432x288 with 1 Axes>"
      ]
     },
     "metadata": {
      "needs_background": "light"
     },
     "output_type": "display_data"
    }
   ],
   "source": [
    "img = data_train[0].squeeze()\n",
    "label = labels_train[0]\n",
    "plt.imshow(img, cmap=\"gray\")\n",
    "plt.title(f\"Label: {label}\")\n",
    "plt.show()"
   ]
  },
  {
   "cell_type": "markdown",
   "id": "a7776e74-56d3-4988-ae15-ddfaae9f6d35",
   "metadata": {},
   "source": [
    "### Multinomial Logistic Regression\n",
    "\n",
    "Now, implement the model, i.e. multinomial logistic regression and the loss/cost function (cross-entropy cost).\n",
    "\n",
    "To that end, implement the python functions below. \n",
    "All arguments are pytorch tensors with indicated shapes."
   ]
  },
  {
   "cell_type": "code",
   "execution_count": 10,
   "id": "0c1db699-d593-4f8a-9f63-177117afa932",
   "metadata": {},
   "outputs": [],
   "source": [
    "def linear_trsf(x,W,b):\n",
    "    \"\"\"\n",
    "    x -- tensor with shape (nb,1,28,28)\n",
    "    W -- tensor with shape (10,28*28)\n",
    "    b -- tensor with shape (1,10)\n",
    "    \"\"\"\n",
    "    # YOUR CODE (START)\n",
    "\n",
    "    \n",
    "    # YOUR CODE (END)\n",
    "\n",
    "def softmax(z):\n",
    "    \"\"\"\n",
    "    z -- tensor of shape (nb,10)\n",
    "    \"\"\"\n",
    "    # YOUR CODE (START)\n",
    "\n",
    "    \n",
    "    # YOUR CODE (END)\n",
    "    \n",
    "def predict(x,W,b):\n",
    "    \"\"\"\n",
    "    x -- tensor with shape (nb,1,28,28)\n",
    "    W -- tensor with shape (10,28*28)\n",
    "    b -- tensor with shape (1,10)\n",
    "    \"\"\"\n",
    "    # YOUR CODE (START)\n",
    "\n",
    "    \n",
    "    # YOUR CODE (END)\n"
   ]
  },
  {
   "cell_type": "markdown",
   "id": "68031839-586e-4969-a536-ae9d3c05cd4d",
   "metadata": {},
   "source": [
    "##### TEST"
   ]
  },
  {
   "cell_type": "code",
   "execution_count": 11,
   "id": "04f01d24-401d-411b-bc9e-a4612dbb2fc6",
   "metadata": {},
   "outputs": [
    {
     "name": "stdout",
     "output_type": "stream",
     "text": [
      "torch.Size([10, 784]) torch.Size([1, 10])\n",
      "torch.Size([1, 10]) 1.0\n"
     ]
    }
   ],
   "source": [
    "W,b = torch.randn((10,28*28)), torch.zeros((1,10))\n",
    "print(W.shape,b.shape)\n",
    "u = predict(x,W,b)\n",
    "print(u.shape, torch.sum(u).item())"
   ]
  },
  {
   "cell_type": "markdown",
   "id": "f417988d-95f1-4c87-86ad-ae3df68a756f",
   "metadata": {},
   "source": [
    "#### Loss Function"
   ]
  },
  {
   "cell_type": "code",
   "execution_count": 12,
   "id": "7aa23d20-608a-47cc-b73d-d75d71c69a3d",
   "metadata": {},
   "outputs": [],
   "source": [
    "def loss_ce(y, uhat):\n",
    "    \"\"\"\n",
    "    y -- tensor with shape (nb,1) and possible values (0,1,2,3,4,5,6,7,8,9)\n",
    "    uhat -- tensor with shape (nb,10)\n",
    "    returns -- per sample loss \n",
    "    \"\"\"\n",
    "    # YOUR CODE (START)\n",
    "\n",
    "    \n",
    "    # YOUR CODE (END)\n",
    "\n",
    "def cost_ce(y,uhat):\n",
    "    \"\"\"\n",
    "    y -- tensor with shape (nb,1) and possible values (0,1,2,3,4,5,6,7,8,9)\n",
    "    uhat -- tensor with shape (nb,10)\n",
    "    return -- per batch mean of losses\n",
    "    \"\"\"\n",
    "    # YOUR CODE (START)    \n",
    "\n",
    "    \n",
    "    # YOUR CODE (END)\n"
   ]
  },
  {
   "cell_type": "markdown",
   "id": "ed4385a6-d5e7-4048-a3b7-40607e2d956d",
   "metadata": {},
   "source": [
    "##### TEST"
   ]
  },
  {
   "cell_type": "code",
   "execution_count": 13,
   "id": "13bafc12-db4b-4d2b-a048-ebd45366ba6f",
   "metadata": {
    "tags": []
   },
   "outputs": [
    {
     "name": "stdout",
     "output_type": "stream",
     "text": [
      "tensor([2.4076, 1.0986]) tensor(1.7531)\n"
     ]
    }
   ],
   "source": [
    "import numpy as np\n",
    "y = torch.tensor([0,2])\n",
    "z = torch.tensor([[1.,2,3],[2,2,2]]).reshape(-1,3)\n",
    "uhat = softmax(z)\n",
    "print(loss_ce(y,uhat), cost_ce(y,uhat))"
   ]
  },
  {
   "cell_type": "markdown",
   "id": "0a4c00be-22f3-4f78-8079-21f455e83abc",
   "metadata": {},
   "source": [
    "### Gradient Descent for the given Model\n",
    "\n",
    "For the training, we adopt gradient descent - and start with the implementation of the gradient of the cost function (cross-entropy cost function).  "
   ]
  },
  {
   "cell_type": "markdown",
   "id": "a3576b66-3fcd-4cff-b6a2-1e14d1ba7789",
   "metadata": {
    "tags": []
   },
   "source": [
    "#### Gradient"
   ]
  },
  {
   "cell_type": "code",
   "execution_count": 14,
   "id": "ad97d05e-9b97-4cef-ad74-728875a717b9",
   "metadata": {
    "tags": []
   },
   "outputs": [],
   "source": [
    "def grad_loss_ce(x,u,uhat):\n",
    "    \"\"\"\n",
    "    x -- tensor with shape (nb,1, 28*28)\n",
    "    u -- tensor with shape (nb,10)\n",
    "    uhat -- tensor with shape (nb,10)\n",
    "    returns -- gradW, gradb (same dimension as W and b)\n",
    "    \"\"\"\n",
    "    # YOUR CODE (START)\n",
    "\n",
    "    \n",
    "    \n",
    "    # YOUR CODE (END)"
   ]
  },
  {
   "cell_type": "markdown",
   "id": "9101058b-0699-454b-bee0-bd4efb729575",
   "metadata": {
    "tags": []
   },
   "source": [
    "#### Metrics - Cost, Accuracy\n",
    "\n",
    "For tracking the progress of the training, we will use two functions: the cost and the accuracy. "
   ]
  },
  {
   "cell_type": "code",
   "execution_count": 15,
   "id": "ce2b90c5-e592-4d18-9a46-5323ca010e4e",
   "metadata": {
    "tags": []
   },
   "outputs": [],
   "source": [
    "def metrics(X,Y,W,b):\n",
    "    \"\"\"\n",
    "    X -- tensor with shape (nb,1,28*28)\n",
    "    Y -- tensor with shape (nb,10)\n",
    "    W -- tensor with shape (10,28*28)\n",
    "    b -- tensor with shape (10,1)\n",
    "    \n",
    "    return -- cost, acc (both scalars)\n",
    "    \"\"\"\n",
    "    # YOUR CODE (START)    \n",
    "\n",
    "    \n",
    "    \n",
    "    \n",
    "    # YOUR CODE (END)"
   ]
  },
  {
   "cell_type": "markdown",
   "id": "b2e54eea-ddb0-41b0-a736-60924d2bec89",
   "metadata": {},
   "source": [
    "### Mini-Batch Gradient Descent"
   ]
  },
  {
   "cell_type": "code",
   "execution_count": 16,
   "id": "1d62dcb8-5a8f-4ba4-a196-bad7cbb9d835",
   "metadata": {},
   "outputs": [
    {
     "name": "stdout",
     "output_type": "stream",
     "text": [
      "Epoch 0: 0.889560, 0.834417, 0.546413, 0.879900\n",
      "Epoch 1: 0.486921, 0.887533, 0.575450, 0.859900\n",
      "Epoch 2: 0.427495, 0.894183, 0.490926, 0.881300\n",
      "Epoch 3: 0.390394, 0.903050, 0.466149, 0.880900\n",
      "Epoch 4: 0.372548, 0.905600, 0.495317, 0.878000\n",
      "Epoch 5: 0.356272, 0.907917, 0.515738, 0.872300\n",
      "Epoch 6: 0.346408, 0.909433, 0.383984, 0.904500\n",
      "Epoch 7: 0.334237, 0.911983, 0.364158, 0.907300\n",
      "Epoch 8: 0.329418, 0.911983, 0.359820, 0.906700\n",
      "Epoch 9: 0.324077, 0.913283, 0.362379, 0.909200\n",
      "5.7674931\n"
     ]
    }
   ],
   "source": [
    "nepochs = 10\n",
    "alpha = 0.01\n",
    "nclasses = 10\n",
    "nbatch = 64\n",
    "num_batches = len(training_data)/float(nbatch)\n",
    "\n",
    "cost_hist = []\n",
    "acc_hist = []\n",
    "cost_hist_test = []\n",
    "acc_hist_test = []\n",
    "\n",
    "# data loader\n",
    "train_dataloader = DataLoader(training_data, batch_size=nbatch, shuffle=True)\n",
    "\n",
    "# test data - we can load all samples for the test since it easily fits into memory\n",
    "Xtest,Ytest = next(iter(DataLoader(test_data, batch_size=10000, shuffle=True))) \n",
    "\n",
    "# initial parameters\n",
    "W,b = torch.randn((10,28*28)), torch.zeros((1,10))\n",
    "\n",
    "d0 = datetime.now()\n",
    "\n",
    "for epoch in range(nepochs):\n",
    "    cost = 0.0\n",
    "    acc = 0\n",
    "    for X,Y in train_dataloader:\n",
    "    ...\n",
    "    ...\n",
    "    ...\n",
    "    ...\n",
    "        \n",
    "    print(\"Epoch %i: %f, %f, %f, %f\"%(epoch, cost, acc, cost_test, acc_test))\n",
    "    \n",
    "d = datetime.now()\n",
    "print((d-d0).total_seconds()/nepochs)  "
   ]
  },
  {
   "cell_type": "code",
   "execution_count": 18,
   "id": "9fed7dc9-44c4-4f06-b184-40d05fcefeba",
   "metadata": {},
   "outputs": [
    {
     "data": {
      "text/plain": [
       "Text(0.5, 1.0, 'Accuracy')"
      ]
     },
     "execution_count": 18,
     "metadata": {},
     "output_type": "execute_result"
    },
    {
     "data": {
      "image/png": "[encoded data removed]",
      "text/plain": [
       "<Figure size 432x288 with 1 Axes>"
      ]
     },
     "metadata": {
      "needs_background": "light"
     },
     "output_type": "display_data"
    },
    {
     "data": {
      "image/png": "[encoded data removed]",
      "text/plain": [
       "<Figure size 432x288 with 1 Axes>"
      ]
     },
     "metadata": {
      "needs_background": "light"
     },
     "output_type": "display_data"
    }
   ],
   "source": [
    "plt.figure(1)\n",
    "plt.plot(torch.arange(nepochs), cost_hist, \"-\")\n",
    "plt.plot(torch.arange(nepochs), cost_hist_test, \"r-\")\n",
    "plt.xlabel(\"Epoch\")\n",
    "plt.xlim(0,nepochs)\n",
    "plt.ylim(0,1)\n",
    "plt.title(\"Cross-Entropy Cost\")\n",
    "plt.figure(2)\n",
    "plt.plot(torch.arange(nepochs), acc_hist,\"-\")\n",
    "plt.plot(torch.arange(nepochs), acc_hist_test,\"r-\")\n",
    "plt.xlabel(\"Epoch\")\n",
    "plt.xlim(0,nepochs)\n",
    "plt.ylim(0.8,1)\n",
    "plt.title(\"Accuracy\")"
   ]
  },
  {
   "cell_type": "markdown",
   "id": "1e43eb8b-f5f8-4e2f-8338-79d142581b52",
   "metadata": {},
   "source": [
    "### With Full-Fledge PyTorch"
   ]
  },
  {
   "cell_type": "code",
   "execution_count": 19,
   "id": "ef3daa6e-134a-45da-9e79-5d71d328e6bd",
   "metadata": {},
   "outputs": [],
   "source": [
    "class NeuralNetwork(torch.nn.Module):\n",
    "    \n",
    "    def __init__(self):\n",
    "        super(NeuralNetwork, self).__init__()\n",
    "        self.flatten = ...\n",
    "        self.linear  = ...\n",
    "    \n",
    "    def forward(self, x): # use just one linear layer and pytorch's CrossEntropyLoss\n",
    "        z = ...\n",
    "        return z\n"
   ]
  },
  {
   "cell_type": "code",
   "execution_count": 34,
   "id": "09ef1a08-ecac-4a33-be14-bc8fe3d081fe",
   "metadata": {},
   "outputs": [
    {
     "name": "stdout",
     "output_type": "stream",
     "text": [
      "NeuralNetwork(\n",
      "  (flatten): Flatten(start_dim=1, end_dim=-1)\n",
      "  (linear): Linear(in_features=784, out_features=10, bias=True)\n",
      ")\n"
     ]
    }
   ],
   "source": [
    "model = NeuralNetwork()\n",
    "print(model)"
   ]
  },
  {
   "cell_type": "code",
   "execution_count": 35,
   "id": "4e79c33e-ca98-4df2-b887-c30cb02ae503",
   "metadata": {},
   "outputs": [
    {
     "name": "stdout",
     "output_type": "stream",
     "text": [
      "----------------------------------------------------------------\n",
      "        Layer (type)               Output Shape         Param #\n",
      "================================================================\n",
      "           Flatten-1                  [-1, 784]               0\n",
      "            Linear-2                   [-1, 10]           7,850\n",
      "================================================================\n",
      "Total params: 7,850\n",
      "Trainable params: 7,850\n",
      "Non-trainable params: 0\n",
      "----------------------------------------------------------------\n",
      "Input size (MB): 0.00\n",
      "Forward/backward pass size (MB): 0.01\n",
      "Params size (MB): 0.03\n",
      "Estimated Total Size (MB): 0.04\n",
      "----------------------------------------------------------------\n"
     ]
    }
   ],
   "source": [
    "summary(model, (1,28,28))"
   ]
  },
  {
   "cell_type": "code",
   "execution_count": 36,
   "id": "d7823a99-4f08-4c86-9dde-459d19e861d2",
   "metadata": {},
   "outputs": [
    {
     "name": "stdout",
     "output_type": "stream",
     "text": [
      "Epoch 0: 0.983347, 0.798517, 0.603200, 0.867500\n",
      "Epoch 1: 0.552474, 0.867283, 0.477130, 0.884000\n",
      "Epoch 2: 0.472336, 0.879833, 0.426591, 0.891300\n",
      "Epoch 3: 0.433343, 0.886117, 0.398831, 0.896200\n",
      "Epoch 4: 0.408873, 0.891000, 0.381611, 0.899200\n",
      "Epoch 5: 0.392192, 0.894483, 0.364884, 0.902000\n",
      "Epoch 6: 0.379480, 0.897100, 0.355054, 0.905300\n",
      "Epoch 7: 0.369738, 0.899250, 0.345773, 0.906000\n",
      "Epoch 8: 0.361385, 0.900750, 0.340056, 0.907500\n",
      "Epoch 9: 0.354670, 0.902517, 0.333860, 0.907700\n"
     ]
    }
   ],
   "source": [
    "nbatch = 64\n",
    "nepochs = 10\n",
    "learning_rate = 0.01\n",
    "\n",
    "cost_hist = []\n",
    "cost_hist_test = []\n",
    "acc_hist = []\n",
    "acc_hist_test = []\n",
    "\n",
    "cost_ce = torch.nn.CrossEntropyLoss()\n",
    "optimizer = torch.optim.SGD(model.parameters(), lr=learning_rate)\n",
    "\n",
    "training_loader = DataLoader(training_data, batch_size=nbatch, shuffle=True)\n",
    "test_loader = DataLoader(test_data, batch_size=10000, shuffle=True)\n",
    "Xtest, Ytest = next(iter(test_loader))\n",
    "size = len(training_loader.dataset)\n",
    "nbatches = len(training_loader)\n",
    "\n",
    "for epoch in range(nepochs):\n",
    "    cost, acc = 0.0, 0.0\n",
    "    for batch, (X, Y) in enumerate(training_loader):\n",
    "\n",
    "    ...    \n",
    "    ...    \n",
    "    ...    \n",
    "        \n",
    "    cost /= nbatches\n",
    "    acc /= size\n",
    "    \n",
    "    ...\n",
    "    ...\n",
    "    ...\n",
    "    \n",
    "    print(\"Epoch %i: %f, %f, %f, %f\"%(epoch, cost, acc, cost_test, acc_test))\n",
    "    cost_hist.append(cost)\n",
    "    cost_hist_test.append(cost_test)\n",
    "    acc_hist.append(acc)\n",
    "    acc_hist_test.append(acc_test)\n"
   ]
  },
  {
   "cell_type": "code",
   "execution_count": 37,
   "id": "fc4695d3-4b2b-4304-ae4e-9c8eb1f44cf3",
   "metadata": {},
   "outputs": [
    {
     "data": {
      "text/plain": [
       "Text(0.5, 1.0, 'Accuracy')"
      ]
     },
     "execution_count": 37,
     "metadata": {},
     "output_type": "execute_result"
    },
    {
     "data": {
      "image/png": "[encoded data removed]",
      "text/plain": [
       "<Figure size 432x288 with 1 Axes>"
      ]
     },
     "metadata": {
      "needs_background": "light"
     },
     "output_type": "display_data"
    },
    {
     "data": {
      "image/png": "[encoded data removed]",
      "text/plain": [
       "<Figure size 432x288 with 1 Axes>"
      ]
     },
     "metadata": {
      "needs_background": "light"
     },
     "output_type": "display_data"
    }
   ],
   "source": [
    "plt.figure(1)\n",
    "plt.plot(torch.arange(nepochs), cost_hist, \"-\")\n",
    "plt.plot(torch.arange(nepochs), cost_hist_test, \"r-\")\n",
    "plt.xlabel(\"Epoch\")\n",
    "plt.xlim(0,nepochs)\n",
    "plt.ylim(0,1)\n",
    "plt.title(\"Cross-Entropy Cost\")\n",
    "plt.figure(2)\n",
    "plt.plot(torch.arange(nepochs), acc_hist,\"-\")\n",
    "plt.plot(torch.arange(nepochs), acc_hist_test,\"r-\")\n",
    "plt.xlabel(\"Epoch\")\n",
    "plt.xlim(0,nepochs)\n",
    "plt.ylim(0.8,1)\n",
    "plt.title(\"Accuracy\")"
   ]
  },
  {
   "cell_type": "markdown",
   "id": "e34e4990-39e0-412b-85f4-389fcf2e3a9f",
   "metadata": {},
   "source": [
    "### Analysis of different settings for learning rate and batch size"
   ]
  },
  {
   "cell_type": "markdown",
   "id": "2806fab7-0ef3-4ede-b5c5-2c718acd0705",
   "metadata": {},
   "source": [
    "Now analyse the training progress with five, well selected settings for each, the learning rate and the batch size.\n",
    "Make sure that for each setting, a more or less \"stable\" test performance is achieved, i.e. a status where the test accurace is no longer expected to improve. Choose the number of epochs accordingly."
   ]
  },
  {
   "cell_type": "markdown",
   "id": "a1a60790-339d-4ff1-a078-1144b91e5ccb",
   "metadata": {},
   "source": [
    "Finally, prepare suitable plots and tables to make the comparison transparent and characterize in words what you observe. \n",
    "\n",
    "Can you explain the behavior?"
   ]
  },
  {
   "cell_type": "code",
   "execution_count": null,
   "id": "bb76edcd-f921-4d9e-8dcc-41a1b3e9a196",
   "metadata": {},
   "outputs": [],
   "source": []
  }
 ],
 "metadata": {
  "kernelspec": {
   "display_name": "Python 3 (ipykernel)",
   "language": "python",
   "name": "python3"
  },
  "language_info": {
   "codemirror_mode": {
    "name": "ipython",
    "version": 3
   },
   "file_extension": ".py",
   "mimetype": "text/x-python",
   "name": "python",
   "nbconvert_exporter": "python",
   "pygments_lexer": "ipython3",
   "version": "3.9.7"
  }
 },
 "nbformat": 4,
 "nbformat_minor": 5
}
