{
  "cells": [
    {
      "cell_type": "code",
      "execution_count": 224,
      "id": "7ef52aa8-c74f-450e-ac70-01905d511493",
      "metadata": {
        "id": "7ef52aa8-c74f-450e-ac70-01905d511493"
      },
      "outputs": [],
      "source": [
        "import torch\n",
        "import numpy as np\n",
        "import matplotlib.pyplot as plt"
      ]
    },
    {
      "cell_type": "markdown",
      "id": "98670d0a-08fb-4645-887b-4eb5d02cff00",
      "metadata": {
        "id": "98670d0a-08fb-4645-887b-4eb5d02cff00",
        "tags": []
      },
      "source": [
        "## Linear Regression\n",
        "\n",
        "Using the rent prices from appartments in Lausanne from PW 02, restricting to the feature living area.\n",
        "\n",
        "### Load Data"
      ]
    },
    {
      "cell_type": "code",
      "execution_count": 225,
      "id": "275b5e04-7dbc-461d-9e63-c4e1c3852c57",
      "metadata": {
        "id": "275b5e04-7dbc-461d-9e63-c4e1c3852c57",
        "outputId": "10e340cf-f21b-4c72-85e8-e09ff99ac16d"
      },
      "outputs": [
        {
          "name": "stdout",
          "output_type": "stream",
          "text": [
            "   living_area  nb_rooms  rent_price\n",
            "0           69       3.0        1810\n",
            "1           95       3.5        2945\n",
            "2           21       1.5         685\n",
            "3           20       1.0         720\n",
            "4           33       1.5         830\n"
          ]
        },
        {
          "data": {
            "text/plain": [
              "(201, 3)"
            ]
          },
          "execution_count": 225,
          "metadata": {},
          "output_type": "execute_result"
        }
      ],
      "source": [
        "import pandas as pd\n",
        "df = pd.read_csv(\"./lausanne-appart.csv\")\n",
        "N  = df.shape[0]\n",
        "print(df.head())\n",
        "df.shape"
      ]
    },
    {
      "cell_type": "markdown",
      "id": "edfb0957-0a55-4437-9076-dd1cad0354c0",
      "metadata": {
        "id": "edfb0957-0a55-4437-9076-dd1cad0354c0"
      },
      "source": [
        "### Normalization"
      ]
    },
    {
      "cell_type": "code",
      "execution_count": 226,
      "id": "418ab33a-b905-4b9c-aff9-aa0e48bf9a6d",
      "metadata": {
        "id": "418ab33a-b905-4b9c-aff9-aa0e48bf9a6d"
      },
      "outputs": [],
      "source": [
        "x0 = df.values[:,0]\n",
        "x = (x0-np.mean(x0))/np.std(x0)\n",
        "y0 = df.values[:,2]\n",
        "y = (y0-np.mean(y0))/np.std(y0)"
      ]
    },
    {
      "cell_type": "code",
      "execution_count": 227,
      "id": "9d2ef6f7-79d0-49a1-b60c-406b7ae95bce",
      "metadata": {
        "id": "9d2ef6f7-79d0-49a1-b60c-406b7ae95bce",
        "outputId": "2e24f570-54fa-4300-9aed-0d30b4e15213"
      },
      "outputs": [
        {
          "data": {
            "text/plain": [
              "Text(0, 0.5, 'rent_price')"
            ]
          },
          "execution_count": 227,
          "metadata": {},
          "output_type": "execute_result"
        },
        {
          "data": {
            "image/png": "[encoded data removed]",
            "text/plain": [
              "<Figure size 432x288 with 1 Axes>"
            ]
          },
          "metadata": {
            "needs_background": "light"
          },
          "output_type": "display_data"
        }
      ],
      "source": [
        "plt.plot(x, y,\"+\")\n",
        "plt.xlabel(\"living_area\")\n",
        "plt.ylabel(\"rent_price\")"
      ]
    },
    {
      "cell_type": "markdown",
      "id": "cf95eefb-3767-4884-a799-7617e9428a5c",
      "metadata": {
        "id": "cf95eefb-3767-4884-a799-7617e9428a5c",
        "tags": []
      },
      "source": [
        "### Linear Model, Normal Equations and Solution\n",
        "\n",
        "We denote the observed rent by $y_j$ (at time $x_j$) and the model rent by $\\hat{y}_j$ we assume \n",
        "\n",
        "$\\qquad \\hat{y}_j = \\alpha + \\beta x_j$\n",
        "\n",
        "By minimizing the mean squares error\n",
        "\n",
        "$\\qquad C = \\frac{1}{2N}\\sum_j \\left(y_j-\\hat{y}_j\\right)^2 = C(\\alpha,\\beta)$\n",
        "\n",
        "we can fit the straigth line as follows by using the design matrix $X$ and the data vector $Y$, defined by \n",
        "\n",
        "$\\qquad X = \\left(\\begin{array}{cc} 1 & x_0 \\\\ 1 & x_1 \\\\ \\vdots & \\vdots \\\\ 1 & x_{N-1}\\end{array}\\right), \\qquad Y = \\left(\\begin{array}{c} y_0\\\\ \\vdots \\\\ y_{N-1}\\end{array}\\right)$\n",
        "\n",
        "We find \n",
        "\n",
        "$\\qquad \\left(\\begin{array}{c}\\alpha \\\\ \\beta\\end{array}\\right) = \\left(X^T\\cdot X\\right)^{-1}\\cdot X^T\\cdot Y$\n",
        "\n",
        "Hence, here we can easily compute the (linear) model which best fits the training data in the sense of obtaining a minimal mean square error. \n",
        "\n",
        "### Solution of Normal Equations in Pytorch"
      ]
    },
    {
      "cell_type": "code",
      "execution_count": 228,
      "id": "76f0b32a-fd22-4a94-b923-8714538a0204",
      "metadata": {
        "id": "76f0b32a-fd22-4a94-b923-8714538a0204",
        "outputId": "8595b98c-aeb2-456c-a5a0-066f8f87ef2b"
      },
      "outputs": [
        {
          "data": {
            "text/plain": [
              "Text(0, 0.5, 'rent_price')"
            ]
          },
          "execution_count": 228,
          "metadata": {},
          "output_type": "execute_result"
        },
        {
          "data": {
            "image/png": "[encoded data removed]",
            "text/plain": [
              "<Figure size 432x288 with 1 Axes>"
            ]
          },
          "metadata": {
            "needs_background": "light"
          },
          "output_type": "display_data"
        }
      ],
      "source": [
        "N = x.size\n",
        "\n",
        "# YOUR CODE (START)\n",
        "# compose torch tensors X,Y of shape (N,2) and (N,1) respectively\n",
        "X = torch.ones((N, 2))\n",
        "X[:, 1] = torch.from_numpy(x)\n",
        "Y = torch.empty((N, 1))\n",
        "Y[:, 0] = torch.from_numpy(y).to(torch.double)\n",
        "\n",
        "\n",
        "# solution of normal equations, 'a' a torch tensor of shape (2,1) that contains parameters alpha and beta, which shall be optimized\n",
        "a = torch.inverse(torch.transpose(X, 0, 1)@X)@torch.transpose(X, 0, 1)@Y\n",
        "# a_star = torch.linalg.lstsq(Y, X).solution\n",
        "\n",
        "# # prediction\n",
        "Yhat = a[0] + X[:, 1]*a[1]\n",
        "# Yhat_2 = a_star[0,0] + X[:, 1]*a_star[0,1]\n",
        "\n",
        "# # YOUR CODE (END)\n",
        "\n",
        "# plot\n",
        "plt.plot(X[:, 1], Y, \"+\")\n",
        "plt.plot(X[:, 1], Yhat, 'r')\n",
        "# plt.plot(X[:, 1], Yhat_2, 'r')\n",
        "plt.xlabel(\"living_area\")\n",
        "plt.ylabel(\"rent_price\")\n",
        "# print(a)\n",
        "\n"
      ]
    },
    {
      "cell_type": "markdown",
      "id": "322800ee",
      "metadata": {},
      "source": [
        "\n",
        "$\\qquad C = \\frac{1}{2N}\\sum_j \\left(y_j-\\hat{y}_j\\right)^2 = C(\\alpha,\\beta)$"
      ]
    },
    {
      "cell_type": "markdown",
      "id": "5921164c-10c3-4a34-b912-98eff6f39055",
      "metadata": {
        "id": "5921164c-10c3-4a34-b912-98eff6f39055"
      },
      "source": [
        "#### Cost"
      ]
    },
    {
      "cell_type": "code",
      "execution_count": 229,
      "id": "c9a96c63-e392-4b15-a825-d3c7cc9d2ee3",
      "metadata": {
        "id": "c9a96c63-e392-4b15-a825-d3c7cc9d2ee3"
      },
      "outputs": [],
      "source": [
        "def cost(X: torch.Tensor, Y: torch.Tensor, a: torch.Tensor):\n",
        "    # YOUR CODE (START)\n",
        "    N = X.size(dim=0)\n",
        "    Y_hat = a[0] + X[:, 1]*a[1]\n",
        "    return 1/(2*N) * torch.sum(torch.pow(Y - Y_hat, 2))\n",
        "    # YOUR CODE (END)\n"
      ]
    },
    {
      "cell_type": "code",
      "execution_count": 230,
      "id": "be8f5f66-c77f-4aa2-9076-1ab63a03d26d",
      "metadata": {
        "id": "be8f5f66-c77f-4aa2-9076-1ab63a03d26d",
        "outputId": "69582764-fa98-4c1a-a968-f1ea95e42442"
      },
      "outputs": [
        {
          "name": "stdout",
          "output_type": "stream",
          "text": [
            "tensor(182.6755)\n"
          ]
        }
      ],
      "source": [
        "cost_closed_form = cost(X,Y,a)\n",
        "print(cost_closed_form)"
      ]
    },
    {
      "cell_type": "markdown",
      "id": "080abc04-2954-40bb-aafd-c404a34b364c",
      "metadata": {
        "id": "080abc04-2954-40bb-aafd-c404a34b364c"
      },
      "source": [
        "### Gradient Descent"
      ]
    },
    {
      "cell_type": "markdown",
      "id": "14517b30-82e0-4a90-9998-7abe35db7d4f",
      "metadata": {
        "id": "14517b30-82e0-4a90-9998-7abe35db7d4f"
      },
      "source": [
        "Specify the gradient of the cost (w.r.t. $\\alpha, \\beta$) here as maths expression."
      ]
    },
    {
      "cell_type": "code",
      "execution_count": 231,
      "id": "1238b8a4-2d2a-4142-955c-7ea6cb860e0a",
      "metadata": {
        "id": "1238b8a4-2d2a-4142-955c-7ea6cb860e0a"
      },
      "outputs": [],
      "source": [
        "def gradient_cost(X, Y, params):\n",
        "    # YOUR CODE (START)\n",
        "    N = X.size(dim=0)\n",
        "    a = params[0]\n",
        "    b = params[1]\n",
        "\n",
        "    partial_derivative_wrt_a = 1/(2*N) * torch.sum(2 * (Y - (a + X[:, 1]*b)))\n",
        "    partial_derivative_wrt_b = 1/(2*N) * torch.sum(2*X[:, 1] * (Y - (a + X[:, 1]*b)))\n",
        "\n",
        "    return torch.tensor([[partial_derivative_wrt_a], [partial_derivative_wrt_b]])\n",
        "    # YOUR CODE (END)\n"
      ]
    },
    {
      "cell_type": "code",
      "execution_count": 244,
      "id": "2eda460e-e91f-4f07-b591-4bdaa6becdfd",
      "metadata": {
        "id": "2eda460e-e91f-4f07-b591-4bdaa6becdfd",
        "outputId": "016b8821-9fcd-4542-aae2-b716c560243b"
      },
      "outputs": [
        {
          "name": "stdout",
          "output_type": "stream",
          "text": [
            "tensor(100.5000, dtype=torch.float64)\n",
            "tensor(100.5000, dtype=torch.float64)\n",
            "tensor(100.5000, dtype=torch.float64)\n",
            "tensor(100.5000, dtype=torch.float64)\n",
            "tensor(100.5000, dtype=torch.float64)\n",
            "tensor(100.5000, dtype=torch.float64)\n",
            "tensor(100.5003, dtype=torch.float64)\n",
            "tensor(100.5223, dtype=torch.float64)\n",
            "tensor(102.3292, dtype=torch.float64)\n",
            "tensor(250.3159, dtype=torch.float64)\n",
            "tensor(12370.7972, dtype=torch.float64)\n",
            "tensor(1005068.5200, dtype=torch.float64)\n",
            "tensor(82309493.7547, dtype=torch.float64)\n",
            "tensor(6.7413e+09, dtype=torch.float64)\n",
            "tensor(5.5213e+11, dtype=torch.float64)\n",
            "tensor(4.5221e+13, dtype=torch.float64)\n",
            "tensor(3.7037e+15, dtype=torch.float64)\n",
            "tensor(3.0334e+17, dtype=torch.float64)\n",
            "tensor(2.4845e+19, dtype=torch.float64)\n",
            "tensor(2.0348e+21, dtype=torch.float64)\n",
            "tensor(1.6666e+23, dtype=torch.float64)\n",
            "tensor(1.3650e+25, dtype=torch.float64)\n",
            "tensor(1.1179e+27, dtype=torch.float64)\n",
            "tensor(9.1563e+28, dtype=torch.float64)\n",
            "tensor(7.4992e+30, dtype=torch.float64)\n",
            "tensor(6.1420e+32, dtype=torch.float64)\n",
            "tensor(5.0305e+34, dtype=torch.float64)\n",
            "tensor(4.1201e+36, dtype=torch.float64)\n",
            "tensor(3.3745e+38, dtype=torch.float64)\n",
            "tensor(2.7638e+40, dtype=torch.float64)\n",
            "tensor(2.2636e+42, dtype=torch.float64)\n",
            "tensor(1.8539e+44, dtype=torch.float64)\n",
            "tensor(1.5184e+46, dtype=torch.float64)\n",
            "tensor(1.2436e+48, dtype=torch.float64)\n",
            "tensor(1.0186e+50, dtype=torch.float64)\n",
            "tensor(8.3423e+51, dtype=torch.float64)\n",
            "tensor(6.8325e+53, dtype=torch.float64)\n",
            "tensor(5.5960e+55, dtype=torch.float64)\n",
            "tensor(4.5833e+57, dtype=torch.float64)\n",
            "tensor(3.7538e+59, dtype=torch.float64)\n",
            "tensor(3.0745e+61, dtype=torch.float64)\n",
            "tensor(2.5181e+63, dtype=torch.float64)\n",
            "tensor(2.0624e+65, dtype=torch.float64)\n",
            "tensor(1.6891e+67, dtype=torch.float64)\n",
            "tensor(1.3834e+69, dtype=torch.float64)\n",
            "tensor(1.1331e+71, dtype=torch.float64)\n",
            "tensor(9.2801e+72, dtype=torch.float64)\n",
            "tensor(7.6006e+74, dtype=torch.float64)\n",
            "tensor(6.2251e+76, dtype=torch.float64)\n",
            "tensor(5.0985e+78, dtype=torch.float64)\n",
            "tensor(4.1758e+80, dtype=torch.float64)\n",
            "tensor(3.4201e+82, dtype=torch.float64)\n",
            "tensor(2.8011e+84, dtype=torch.float64)\n",
            "tensor(2.2942e+86, dtype=torch.float64)\n",
            "tensor(1.8790e+88, dtype=torch.float64)\n",
            "tensor(1.5390e+90, dtype=torch.float64)\n",
            "tensor(1.2604e+92, dtype=torch.float64)\n",
            "tensor(1.0323e+94, dtype=torch.float64)\n",
            "tensor(8.4551e+95, dtype=torch.float64)\n",
            "tensor(6.9249e+97, dtype=torch.float64)\n",
            "tensor(5.6717e+99, dtype=torch.float64)\n",
            "tensor(4.6453e+101, dtype=torch.float64)\n",
            "tensor(3.8046e+103, dtype=torch.float64)\n",
            "tensor(3.1161e+105, dtype=torch.float64)\n",
            "tensor(2.5521e+107, dtype=torch.float64)\n",
            "tensor(2.0903e+109, dtype=torch.float64)\n",
            "tensor(1.7120e+111, dtype=torch.float64)\n",
            "tensor(1.4021e+113, dtype=torch.float64)\n",
            "tensor(1.1484e+115, dtype=torch.float64)\n",
            "tensor(9.4056e+116, dtype=torch.float64)\n",
            "tensor(7.7034e+118, dtype=torch.float64)\n",
            "tensor(6.3093e+120, dtype=torch.float64)\n",
            "tensor(5.1675e+122, dtype=torch.float64)\n",
            "tensor(4.2323e+124, dtype=torch.float64)\n",
            "tensor(3.4664e+126, dtype=torch.float64)\n",
            "tensor(2.8390e+128, dtype=torch.float64)\n",
            "tensor(2.3252e+130, dtype=torch.float64)\n",
            "tensor(1.9044e+132, dtype=torch.float64)\n",
            "tensor(1.5598e+134, dtype=torch.float64)\n",
            "tensor(1.2775e+136, dtype=torch.float64)\n",
            "tensor(1.0463e+138, dtype=torch.float64)\n",
            "tensor(8.5695e+139, dtype=torch.float64)\n",
            "tensor(7.0186e+141, dtype=torch.float64)\n",
            "tensor(5.7484e+143, dtype=torch.float64)\n",
            "tensor(4.7081e+145, dtype=torch.float64)\n",
            "tensor(3.8560e+147, dtype=torch.float64)\n",
            "tensor(3.1582e+149, dtype=torch.float64)\n",
            "tensor(2.5866e+151, dtype=torch.float64)\n",
            "tensor(2.1185e+153, dtype=torch.float64)\n",
            "tensor(1.7351e+155, dtype=torch.float64)\n",
            "tensor(1.4211e+157, dtype=torch.float64)\n",
            "tensor(1.1639e+159, dtype=torch.float64)\n",
            "tensor(9.5328e+160, dtype=torch.float64)\n",
            "tensor(7.8076e+162, dtype=torch.float64)\n",
            "tensor(6.3946e+164, dtype=torch.float64)\n",
            "tensor(5.2374e+166, dtype=torch.float64)\n",
            "tensor(4.2895e+168, dtype=torch.float64)\n",
            "tensor(3.5132e+170, dtype=torch.float64)\n",
            "tensor(2.8774e+172, dtype=torch.float64)\n",
            "tensor(2.3567e+174, dtype=torch.float64)\n",
            "tensor(1.9302e+176, dtype=torch.float64)\n",
            "tensor(1.5809e+178, dtype=torch.float64)\n",
            "tensor(1.2948e+180, dtype=torch.float64)\n",
            "tensor(1.0605e+182, dtype=torch.float64)\n",
            "tensor(8.6854e+183, dtype=torch.float64)\n",
            "tensor(7.1135e+185, dtype=torch.float64)\n",
            "tensor(5.8262e+187, dtype=torch.float64)\n",
            "tensor(4.7718e+189, dtype=torch.float64)\n",
            "tensor(3.9082e+191, dtype=torch.float64)\n",
            "tensor(3.2009e+193, dtype=torch.float64)\n",
            "tensor(2.6216e+195, dtype=torch.float64)\n",
            "tensor(2.1472e+197, dtype=torch.float64)\n",
            "tensor(1.7586e+199, dtype=torch.float64)\n",
            "tensor(1.4403e+201, dtype=torch.float64)\n",
            "tensor(1.1797e+203, dtype=torch.float64)\n",
            "tensor(9.6618e+204, dtype=torch.float64)\n",
            "tensor(7.9132e+206, dtype=torch.float64)\n",
            "tensor(6.4811e+208, dtype=torch.float64)\n",
            "tensor(5.3082e+210, dtype=torch.float64)\n",
            "tensor(4.3476e+212, dtype=torch.float64)\n",
            "tensor(3.5608e+214, dtype=torch.float64)\n",
            "tensor(2.9164e+216, dtype=torch.float64)\n",
            "tensor(2.3886e+218, dtype=torch.float64)\n",
            "tensor(1.9563e+220, dtype=torch.float64)\n",
            "tensor(1.6023e+222, dtype=torch.float64)\n",
            "tensor(1.3123e+224, dtype=torch.float64)\n",
            "tensor(1.0748e+226, dtype=torch.float64)\n",
            "tensor(8.8028e+227, dtype=torch.float64)\n",
            "tensor(7.2097e+229, dtype=torch.float64)\n",
            "tensor(5.9050e+231, dtype=torch.float64)\n",
            "tensor(4.8363e+233, dtype=torch.float64)\n",
            "tensor(3.9611e+235, dtype=torch.float64)\n",
            "tensor(3.2442e+237, dtype=torch.float64)\n",
            "tensor(2.6571e+239, dtype=torch.float64)\n",
            "tensor(2.1762e+241, dtype=torch.float64)\n",
            "tensor(1.7824e+243, dtype=torch.float64)\n",
            "tensor(1.4598e+245, dtype=torch.float64)\n",
            "tensor(1.1956e+247, dtype=torch.float64)\n",
            "tensor(9.7924e+248, dtype=torch.float64)\n",
            "tensor(8.0203e+250, dtype=torch.float64)\n",
            "tensor(6.5688e+252, dtype=torch.float64)\n",
            "tensor(5.3800e+254, dtype=torch.float64)\n",
            "tensor(4.4064e+256, dtype=torch.float64)\n",
            "tensor(3.6089e+258, dtype=torch.float64)\n",
            "tensor(2.9558e+260, dtype=torch.float64)\n",
            "tensor(2.4209e+262, dtype=torch.float64)\n",
            "tensor(1.9828e+264, dtype=torch.float64)\n",
            "tensor(1.6239e+266, dtype=torch.float64)\n",
            "tensor(1.3300e+268, dtype=torch.float64)\n",
            "tensor(1.0893e+270, dtype=torch.float64)\n",
            "tensor(8.9219e+271, dtype=torch.float64)\n",
            "tensor(7.3073e+273, dtype=torch.float64)\n",
            "tensor(5.9848e+275, dtype=torch.float64)\n",
            "tensor(4.9017e+277, dtype=torch.float64)\n",
            "tensor(4.0146e+279, dtype=torch.float64)\n",
            "tensor(3.2881e+281, dtype=torch.float64)\n",
            "tensor(2.6930e+283, dtype=torch.float64)\n",
            "tensor(2.2057e+285, dtype=torch.float64)\n",
            "tensor(1.8065e+287, dtype=torch.float64)\n",
            "tensor(1.4796e+289, dtype=torch.float64)\n",
            "tensor(1.2118e+291, dtype=torch.float64)\n",
            "tensor(9.9249e+292, dtype=torch.float64)\n",
            "tensor(8.1287e+294, dtype=torch.float64)\n",
            "tensor(6.6576e+296, dtype=torch.float64)\n",
            "tensor(5.4528e+298, dtype=torch.float64)\n",
            "tensor(4.4660e+300, dtype=torch.float64)\n",
            "tensor(3.6577e+302, dtype=torch.float64)\n",
            "tensor(2.9958e+304, dtype=torch.float64)\n",
            "tensor(inf, dtype=torch.float64)\n",
            "tensor(inf, dtype=torch.float64)\n",
            "tensor(inf, dtype=torch.float64)\n",
            "tensor(inf, dtype=torch.float64)\n",
            "tensor(inf, dtype=torch.float64)\n",
            "tensor(inf, dtype=torch.float64)\n",
            "tensor(inf, dtype=torch.float64)\n",
            "tensor(inf, dtype=torch.float64)\n",
            "tensor(inf, dtype=torch.float64)\n",
            "tensor(inf, dtype=torch.float64)\n",
            "tensor(inf, dtype=torch.float64)\n",
            "tensor(inf, dtype=torch.float64)\n",
            "tensor(inf, dtype=torch.float64)\n",
            "tensor(inf, dtype=torch.float64)\n",
            "tensor(inf, dtype=torch.float64)\n",
            "tensor(inf, dtype=torch.float64)\n",
            "tensor(inf, dtype=torch.float64)\n",
            "tensor(inf, dtype=torch.float64)\n",
            "tensor(inf, dtype=torch.float64)\n",
            "tensor(inf, dtype=torch.float64)\n",
            "tensor(inf, dtype=torch.float64)\n",
            "tensor(inf, dtype=torch.float64)\n",
            "tensor(inf, dtype=torch.float64)\n",
            "tensor(inf, dtype=torch.float64)\n",
            "tensor(inf, dtype=torch.float64)\n",
            "tensor(inf, dtype=torch.float64)\n",
            "tensor(inf, dtype=torch.float64)\n",
            "tensor(inf, dtype=torch.float64)\n",
            "tensor(inf, dtype=torch.float64)\n",
            "tensor(inf, dtype=torch.float64)\n",
            "tensor(inf, dtype=torch.float64)\n",
            "tensor(inf, dtype=torch.float64)\n",
            "tensor(inf, dtype=torch.float64)\n",
            "tensor(inf, dtype=torch.float64)\n",
            "tensor(inf, dtype=torch.float64)\n",
            "tensor(inf, dtype=torch.float64)\n",
            "tensor(inf, dtype=torch.float64)\n",
            "tensor(inf, dtype=torch.float64)\n",
            "tensor(inf, dtype=torch.float64)\n",
            "tensor(inf, dtype=torch.float64)\n",
            "tensor(inf, dtype=torch.float64)\n",
            "tensor(inf, dtype=torch.float64)\n",
            "tensor(inf, dtype=torch.float64)\n",
            "tensor(inf, dtype=torch.float64)\n",
            "tensor(inf, dtype=torch.float64)\n",
            "tensor(inf, dtype=torch.float64)\n",
            "tensor(inf, dtype=torch.float64)\n",
            "tensor(inf, dtype=torch.float64)\n",
            "tensor(inf, dtype=torch.float64)\n",
            "tensor(inf, dtype=torch.float64)\n",
            "tensor(inf, dtype=torch.float64)\n",
            "tensor(inf, dtype=torch.float64)\n",
            "tensor(inf, dtype=torch.float64)\n",
            "tensor(inf, dtype=torch.float64)\n",
            "tensor(inf, dtype=torch.float64)\n",
            "tensor(inf, dtype=torch.float64)\n",
            "tensor(inf, dtype=torch.float64)\n",
            "tensor(inf, dtype=torch.float64)\n",
            "tensor(inf, dtype=torch.float64)\n",
            "tensor(inf, dtype=torch.float64)\n",
            "tensor(inf, dtype=torch.float64)\n",
            "tensor(inf, dtype=torch.float64)\n",
            "tensor(inf, dtype=torch.float64)\n",
            "tensor(inf, dtype=torch.float64)\n",
            "tensor(inf, dtype=torch.float64)\n",
            "tensor(inf, dtype=torch.float64)\n",
            "tensor(inf, dtype=torch.float64)\n",
            "tensor(inf, dtype=torch.float64)\n",
            "tensor(inf, dtype=torch.float64)\n",
            "tensor(inf, dtype=torch.float64)\n",
            "tensor(inf, dtype=torch.float64)\n",
            "tensor(inf, dtype=torch.float64)\n",
            "tensor(inf, dtype=torch.float64)\n",
            "tensor(inf, dtype=torch.float64)\n",
            "tensor(inf, dtype=torch.float64)\n",
            "tensor(inf, dtype=torch.float64)\n",
            "tensor(inf, dtype=torch.float64)\n",
            "tensor(inf, dtype=torch.float64)\n",
            "tensor(inf, dtype=torch.float64)\n",
            "tensor(inf, dtype=torch.float64)\n",
            "tensor(inf, dtype=torch.float64)\n",
            "tensor(inf, dtype=torch.float64)\n",
            "tensor(inf, dtype=torch.float64)\n",
            "tensor(inf, dtype=torch.float64)\n",
            "tensor(inf, dtype=torch.float64)\n",
            "tensor(inf, dtype=torch.float64)\n",
            "tensor(inf, dtype=torch.float64)\n",
            "tensor(inf, dtype=torch.float64)\n",
            "tensor(inf, dtype=torch.float64)\n",
            "tensor(inf, dtype=torch.float64)\n",
            "tensor(inf, dtype=torch.float64)\n",
            "tensor(inf, dtype=torch.float64)\n",
            "tensor(inf, dtype=torch.float64)\n",
            "tensor(inf, dtype=torch.float64)\n",
            "tensor(inf, dtype=torch.float64)\n",
            "tensor(inf, dtype=torch.float64)\n",
            "tensor(inf, dtype=torch.float64)\n",
            "tensor(inf, dtype=torch.float64)\n",
            "tensor(inf, dtype=torch.float64)\n",
            "tensor(inf, dtype=torch.float64)\n",
            "tensor(inf, dtype=torch.float64)\n",
            "tensor(inf, dtype=torch.float64)\n",
            "tensor(inf, dtype=torch.float64)\n",
            "tensor(inf, dtype=torch.float64)\n",
            "tensor(inf, dtype=torch.float64)\n",
            "tensor(inf, dtype=torch.float64)\n",
            "tensor(inf, dtype=torch.float64)\n",
            "tensor(inf, dtype=torch.float64)\n",
            "tensor(inf, dtype=torch.float64)\n",
            "tensor(inf, dtype=torch.float64)\n",
            "tensor(inf, dtype=torch.float64)\n",
            "tensor(inf, dtype=torch.float64)\n",
            "tensor(inf, dtype=torch.float64)\n",
            "tensor(inf, dtype=torch.float64)\n",
            "tensor(inf, dtype=torch.float64)\n",
            "tensor(inf, dtype=torch.float64)\n",
            "tensor(inf, dtype=torch.float64)\n",
            "tensor(inf, dtype=torch.float64)\n",
            "tensor(inf, dtype=torch.float64)\n",
            "tensor(inf, dtype=torch.float64)\n",
            "tensor(inf, dtype=torch.float64)\n",
            "tensor(inf, dtype=torch.float64)\n",
            "tensor(inf, dtype=torch.float64)\n",
            "tensor(inf, dtype=torch.float64)\n",
            "tensor(inf, dtype=torch.float64)\n",
            "tensor(inf, dtype=torch.float64)\n",
            "tensor(inf, dtype=torch.float64)\n",
            "tensor(inf, dtype=torch.float64)\n",
            "tensor(inf, dtype=torch.float64)\n",
            "tensor(inf, dtype=torch.float64)\n",
            "tensor(inf, dtype=torch.float64)\n",
            "tensor(inf, dtype=torch.float64)\n",
            "tensor(inf, dtype=torch.float64)\n"
          ]
        },
        {
          "data": {
            "text/plain": [
              "[<matplotlib.lines.Line2D at 0x2903f21da90>]"
            ]
          },
          "execution_count": 244,
          "metadata": {},
          "output_type": "execute_result"
        },
        {
          "data": {
            "image/png": "[encoded data removed]",
            "text/plain": [
              "<Figure size 432x288 with 1 Axes>"
            ]
          },
          "metadata": {
            "needs_background": "light"
          },
          "output_type": "display_data"
        }
      ],
      "source": [
        "# adjust if needed\n",
        "nepochs = 300\n",
        "lr = 0.05\n",
        "\n",
        "# initial parameter\n",
        "a = torch.tensor([0.0, 0.0], dtype=torch.float64).reshape(2, 1)\n",
        "\n",
        "# track the costs\n",
        "costs = [cost(X, Y, a)]\n",
        "\n",
        "# YOUR CODE (START)\n",
        "\n",
        "# loop over the epochs: update parameter values, compute the cost and add it to the costs list\n",
        "for epoch in range(nepochs):\n",
        "    a = a - lr * gradient_cost(X, Y, a)\n",
        "    print(cost(X, Y, a))\n",
        "    costs.append(cost(X, Y, a))\n",
        "\n",
        "\n",
        "# YOUR CODE (END)\n",
        "\n",
        "# some output\n",
        "cost_gd = costs[-1]\n",
        "print(cost_gd)\n",
        "plt.plot(range(nepochs+1), costs)\n",
        "plt.plot(range(nepochs+1), cost_closed_form*torch.ones(nepochs+1))\n"
      ]
    },
    {
      "cell_type": "markdown",
      "id": "b7fc7cf8-ffbd-4d78-a015-7cf2c540ad4c",
      "metadata": {
        "id": "b7fc7cf8-ffbd-4d78-a015-7cf2c540ad4c"
      },
      "source": [
        "### Different Learning Rates\n",
        "\n",
        "Play with different learning rates: Explore for what learning rates \n",
        "- the learning is most efficient\n",
        "- the learning yet works\n",
        "- the learning does not work anymore (learning rate too large)\n",
        "\n",
        "Explain the different scenarios."
      ]
    },
    {
      "cell_type": "code",
      "execution_count": null,
      "id": "e37238ff-7326-465e-8139-b12bcb5e9cdc",
      "metadata": {
        "id": "e37238ff-7326-465e-8139-b12bcb5e9cdc"
      },
      "outputs": [],
      "source": []
    }
  ],
  "metadata": {
    "colab": {
      "name": "pw02_lin_regression_GD_stud.ipynb",
      "provenance": []
    },
    "kernelspec": {
      "display_name": "Python 3 (ipykernel)",
      "language": "python",
      "name": "python3"
    },
    "language_info": {
      "codemirror_mode": {
        "name": "ipython",
        "version": 3
      },
      "file_extension": ".py",
      "mimetype": "text/x-python",
      "name": "python",
      "nbconvert_exporter": "python",
      "pygments_lexer": "ipython3",
      "version": "3.8.10"
    }
  },
  "nbformat": 4,
  "nbformat_minor": 5
}
